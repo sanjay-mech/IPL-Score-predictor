{
 "cells": [
  {
   "cell_type": "code",
   "execution_count": 1,
   "id": "2caaa375",
   "metadata": {
    "ExecuteTime": {
     "end_time": "2023-02-14T05:02:32.863890Z",
     "start_time": "2023-02-14T05:02:29.302311Z"
    },
    "hide_input": false
   },
   "outputs": [],
   "source": [
    "import numpy as np\n",
    "import pandas as pd"
   ]
  },
  {
   "cell_type": "code",
   "execution_count": 2,
   "id": "bbe7dbb3",
   "metadata": {
    "ExecuteTime": {
     "end_time": "2023-02-14T05:02:34.109922Z",
     "start_time": "2023-02-14T05:02:32.863890Z"
    }
   },
   "outputs": [],
   "source": [
    "match = pd.read_csv(r\"C:\\Users\\Dell\\OneDrive\\Desktop\\ipl\\matches.csv\")\n",
    "delivery=pd.read_csv(r\"C:\\Users\\Dell\\OneDrive\\Desktop\\ipl\\deliveries.csv\")"
   ]
  },
  {
   "cell_type": "code",
   "execution_count": 3,
   "id": "6ab8113a",
   "metadata": {
    "ExecuteTime": {
     "end_time": "2023-02-14T05:02:34.131716Z",
     "start_time": "2023-02-14T05:02:34.109922Z"
    }
   },
   "outputs": [
    {
     "data": {
      "text/plain": [
       "Index(['match_id', 'inning', 'batting_team', 'bowling_team', 'over', 'ball',\n",
       "       'batsman', 'non_striker', 'bowler', 'is_super_over', 'wide_runs',\n",
       "       'bye_runs', 'legbye_runs', 'noball_runs', 'penalty_runs',\n",
       "       'batsman_runs', 'extra_runs', 'total_runs', 'player_dismissed',\n",
       "       'dismissal_kind', 'fielder'],\n",
       "      dtype='object')"
      ]
     },
     "execution_count": 3,
     "metadata": {},
     "output_type": "execute_result"
    }
   ],
   "source": [
    "delivery.columns"
   ]
  },
  {
   "cell_type": "code",
   "execution_count": 4,
   "id": "6b84622d",
   "metadata": {
    "ExecuteTime": {
     "end_time": "2023-02-14T05:02:34.151753Z",
     "start_time": "2023-02-14T05:02:34.141301Z"
    }
   },
   "outputs": [
    {
     "data": {
      "text/plain": [
       "Index(['id', 'Season', 'city', 'date', 'team1', 'team2', 'toss_winner',\n",
       "       'toss_decision', 'result', 'dl_applied', 'winner', 'win_by_runs',\n",
       "       'win_by_wickets', 'player_of_match', 'venue', 'umpire1', 'umpire2',\n",
       "       'umpire3'],\n",
       "      dtype='object')"
      ]
     },
     "execution_count": 4,
     "metadata": {},
     "output_type": "execute_result"
    }
   ],
   "source": [
    "match.columns"
   ]
  },
  {
   "cell_type": "code",
   "execution_count": 5,
   "id": "a931c0f2",
   "metadata": {
    "ExecuteTime": {
     "end_time": "2023-02-14T05:02:34.331904Z",
     "start_time": "2023-02-14T05:02:34.151753Z"
    }
   },
   "outputs": [
    {
     "name": "stderr",
     "output_type": "stream",
     "text": [
      "C:\\Users\\Dell\\AppData\\Local\\Temp\\ipykernel_12280\\2553512226.py:1: FutureWarning: The default value of numeric_only in DataFrameGroupBy.sum is deprecated. In a future version, numeric_only will default to False. Either specify numeric_only or select only columns which should be valid for the function.\n",
      "  total_score_df = delivery.groupby(['match_id','inning']).sum()['total_runs'].reset_index()\n"
     ]
    }
   ],
   "source": [
    "total_score_df = delivery.groupby(['match_id','inning']).sum()['total_runs'].reset_index()"
   ]
  },
  {
   "cell_type": "code",
   "execution_count": 6,
   "id": "5295ca50",
   "metadata": {
    "ExecuteTime": {
     "end_time": "2023-02-14T05:02:34.388133Z",
     "start_time": "2023-02-14T05:02:34.331904Z"
    }
   },
   "outputs": [],
   "source": [
    "total_score_df = total_score_df[total_score_df['inning'] == 1]"
   ]
  },
  {
   "cell_type": "code",
   "execution_count": 7,
   "id": "d999cde9",
   "metadata": {
    "ExecuteTime": {
     "end_time": "2023-02-14T05:02:34.426057Z",
     "start_time": "2023-02-14T05:02:34.388133Z"
    }
   },
   "outputs": [
    {
     "data": {
      "text/html": [
       "<div>\n",
       "<style scoped>\n",
       "    .dataframe tbody tr th:only-of-type {\n",
       "        vertical-align: middle;\n",
       "    }\n",
       "\n",
       "    .dataframe tbody tr th {\n",
       "        vertical-align: top;\n",
       "    }\n",
       "\n",
       "    .dataframe thead th {\n",
       "        text-align: right;\n",
       "    }\n",
       "</style>\n",
       "<table border=\"1\" class=\"dataframe\">\n",
       "  <thead>\n",
       "    <tr style=\"text-align: right;\">\n",
       "      <th></th>\n",
       "      <th>match_id</th>\n",
       "      <th>inning</th>\n",
       "      <th>total_runs</th>\n",
       "    </tr>\n",
       "  </thead>\n",
       "  <tbody>\n",
       "    <tr>\n",
       "      <th>0</th>\n",
       "      <td>1</td>\n",
       "      <td>1</td>\n",
       "      <td>207</td>\n",
       "    </tr>\n",
       "    <tr>\n",
       "      <th>2</th>\n",
       "      <td>2</td>\n",
       "      <td>1</td>\n",
       "      <td>184</td>\n",
       "    </tr>\n",
       "    <tr>\n",
       "      <th>4</th>\n",
       "      <td>3</td>\n",
       "      <td>1</td>\n",
       "      <td>183</td>\n",
       "    </tr>\n",
       "    <tr>\n",
       "      <th>6</th>\n",
       "      <td>4</td>\n",
       "      <td>1</td>\n",
       "      <td>163</td>\n",
       "    </tr>\n",
       "    <tr>\n",
       "      <th>8</th>\n",
       "      <td>5</td>\n",
       "      <td>1</td>\n",
       "      <td>157</td>\n",
       "    </tr>\n",
       "  </tbody>\n",
       "</table>\n",
       "</div>"
      ],
      "text/plain": [
       "   match_id  inning  total_runs\n",
       "0         1       1         207\n",
       "2         2       1         184\n",
       "4         3       1         183\n",
       "6         4       1         163\n",
       "8         5       1         157"
      ]
     },
     "execution_count": 7,
     "metadata": {},
     "output_type": "execute_result"
    }
   ],
   "source": [
    "total_score_df.head()"
   ]
  },
  {
   "cell_type": "code",
   "execution_count": 8,
   "id": "2d3bb6a4",
   "metadata": {
    "ExecuteTime": {
     "end_time": "2023-02-14T05:02:34.493752Z",
     "start_time": "2023-02-14T05:02:34.474727Z"
    }
   },
   "outputs": [],
   "source": [
    "match_df = match.merge(total_score_df[['match_id','total_runs']],left_on='id',right_on='match_id')"
   ]
  },
  {
   "cell_type": "code",
   "execution_count": 9,
   "id": "e202b608",
   "metadata": {
    "ExecuteTime": {
     "end_time": "2023-02-14T05:02:34.600476Z",
     "start_time": "2023-02-14T05:02:34.506367Z"
    }
   },
   "outputs": [
    {
     "data": {
      "text/html": [
       "<div>\n",
       "<style scoped>\n",
       "    .dataframe tbody tr th:only-of-type {\n",
       "        vertical-align: middle;\n",
       "    }\n",
       "\n",
       "    .dataframe tbody tr th {\n",
       "        vertical-align: top;\n",
       "    }\n",
       "\n",
       "    .dataframe thead th {\n",
       "        text-align: right;\n",
       "    }\n",
       "</style>\n",
       "<table border=\"1\" class=\"dataframe\">\n",
       "  <thead>\n",
       "    <tr style=\"text-align: right;\">\n",
       "      <th></th>\n",
       "      <th>id</th>\n",
       "      <th>Season</th>\n",
       "      <th>city</th>\n",
       "      <th>date</th>\n",
       "      <th>team1</th>\n",
       "      <th>team2</th>\n",
       "      <th>toss_winner</th>\n",
       "      <th>toss_decision</th>\n",
       "      <th>result</th>\n",
       "      <th>dl_applied</th>\n",
       "      <th>winner</th>\n",
       "      <th>win_by_runs</th>\n",
       "      <th>win_by_wickets</th>\n",
       "      <th>player_of_match</th>\n",
       "      <th>venue</th>\n",
       "      <th>umpire1</th>\n",
       "      <th>umpire2</th>\n",
       "      <th>umpire3</th>\n",
       "      <th>match_id</th>\n",
       "      <th>total_runs</th>\n",
       "    </tr>\n",
       "  </thead>\n",
       "  <tbody>\n",
       "    <tr>\n",
       "      <th>0</th>\n",
       "      <td>1</td>\n",
       "      <td>IPL-2017</td>\n",
       "      <td>Hyderabad</td>\n",
       "      <td>05-04-2017</td>\n",
       "      <td>Sunrisers Hyderabad</td>\n",
       "      <td>Royal Challengers Bangalore</td>\n",
       "      <td>Royal Challengers Bangalore</td>\n",
       "      <td>field</td>\n",
       "      <td>normal</td>\n",
       "      <td>0</td>\n",
       "      <td>Sunrisers Hyderabad</td>\n",
       "      <td>35</td>\n",
       "      <td>0</td>\n",
       "      <td>Yuvraj Singh</td>\n",
       "      <td>Rajiv Gandhi International Stadium, Uppal</td>\n",
       "      <td>AY Dandekar</td>\n",
       "      <td>NJ Llong</td>\n",
       "      <td>NaN</td>\n",
       "      <td>1</td>\n",
       "      <td>207</td>\n",
       "    </tr>\n",
       "    <tr>\n",
       "      <th>1</th>\n",
       "      <td>2</td>\n",
       "      <td>IPL-2017</td>\n",
       "      <td>Pune</td>\n",
       "      <td>06-04-2017</td>\n",
       "      <td>Mumbai Indians</td>\n",
       "      <td>Rising Pune Supergiant</td>\n",
       "      <td>Rising Pune Supergiant</td>\n",
       "      <td>field</td>\n",
       "      <td>normal</td>\n",
       "      <td>0</td>\n",
       "      <td>Rising Pune Supergiant</td>\n",
       "      <td>0</td>\n",
       "      <td>7</td>\n",
       "      <td>SPD Smith</td>\n",
       "      <td>Maharashtra Cricket Association Stadium</td>\n",
       "      <td>A Nand Kishore</td>\n",
       "      <td>S Ravi</td>\n",
       "      <td>NaN</td>\n",
       "      <td>2</td>\n",
       "      <td>184</td>\n",
       "    </tr>\n",
       "    <tr>\n",
       "      <th>2</th>\n",
       "      <td>3</td>\n",
       "      <td>IPL-2017</td>\n",
       "      <td>Rajkot</td>\n",
       "      <td>07-04-2017</td>\n",
       "      <td>Gujarat Lions</td>\n",
       "      <td>Kolkata Knight Riders</td>\n",
       "      <td>Kolkata Knight Riders</td>\n",
       "      <td>field</td>\n",
       "      <td>normal</td>\n",
       "      <td>0</td>\n",
       "      <td>Kolkata Knight Riders</td>\n",
       "      <td>0</td>\n",
       "      <td>10</td>\n",
       "      <td>CA Lynn</td>\n",
       "      <td>Saurashtra Cricket Association Stadium</td>\n",
       "      <td>Nitin Menon</td>\n",
       "      <td>CK Nandan</td>\n",
       "      <td>NaN</td>\n",
       "      <td>3</td>\n",
       "      <td>183</td>\n",
       "    </tr>\n",
       "    <tr>\n",
       "      <th>3</th>\n",
       "      <td>4</td>\n",
       "      <td>IPL-2017</td>\n",
       "      <td>Indore</td>\n",
       "      <td>08-04-2017</td>\n",
       "      <td>Rising Pune Supergiant</td>\n",
       "      <td>Kings XI Punjab</td>\n",
       "      <td>Kings XI Punjab</td>\n",
       "      <td>field</td>\n",
       "      <td>normal</td>\n",
       "      <td>0</td>\n",
       "      <td>Kings XI Punjab</td>\n",
       "      <td>0</td>\n",
       "      <td>6</td>\n",
       "      <td>GJ Maxwell</td>\n",
       "      <td>Holkar Cricket Stadium</td>\n",
       "      <td>AK Chaudhary</td>\n",
       "      <td>C Shamshuddin</td>\n",
       "      <td>NaN</td>\n",
       "      <td>4</td>\n",
       "      <td>163</td>\n",
       "    </tr>\n",
       "    <tr>\n",
       "      <th>4</th>\n",
       "      <td>5</td>\n",
       "      <td>IPL-2017</td>\n",
       "      <td>Bangalore</td>\n",
       "      <td>08-04-2017</td>\n",
       "      <td>Royal Challengers Bangalore</td>\n",
       "      <td>Delhi Daredevils</td>\n",
       "      <td>Royal Challengers Bangalore</td>\n",
       "      <td>bat</td>\n",
       "      <td>normal</td>\n",
       "      <td>0</td>\n",
       "      <td>Royal Challengers Bangalore</td>\n",
       "      <td>15</td>\n",
       "      <td>0</td>\n",
       "      <td>KM Jadhav</td>\n",
       "      <td>M Chinnaswamy Stadium</td>\n",
       "      <td>NaN</td>\n",
       "      <td>NaN</td>\n",
       "      <td>NaN</td>\n",
       "      <td>5</td>\n",
       "      <td>157</td>\n",
       "    </tr>\n",
       "  </tbody>\n",
       "</table>\n",
       "</div>"
      ],
      "text/plain": [
       "   id    Season       city        date                        team1  \\\n",
       "0   1  IPL-2017  Hyderabad  05-04-2017          Sunrisers Hyderabad   \n",
       "1   2  IPL-2017       Pune  06-04-2017               Mumbai Indians   \n",
       "2   3  IPL-2017     Rajkot  07-04-2017                Gujarat Lions   \n",
       "3   4  IPL-2017     Indore  08-04-2017       Rising Pune Supergiant   \n",
       "4   5  IPL-2017  Bangalore  08-04-2017  Royal Challengers Bangalore   \n",
       "\n",
       "                         team2                  toss_winner toss_decision  \\\n",
       "0  Royal Challengers Bangalore  Royal Challengers Bangalore         field   \n",
       "1       Rising Pune Supergiant       Rising Pune Supergiant         field   \n",
       "2        Kolkata Knight Riders        Kolkata Knight Riders         field   \n",
       "3              Kings XI Punjab              Kings XI Punjab         field   \n",
       "4             Delhi Daredevils  Royal Challengers Bangalore           bat   \n",
       "\n",
       "   result  dl_applied                       winner  win_by_runs  \\\n",
       "0  normal           0          Sunrisers Hyderabad           35   \n",
       "1  normal           0       Rising Pune Supergiant            0   \n",
       "2  normal           0        Kolkata Knight Riders            0   \n",
       "3  normal           0              Kings XI Punjab            0   \n",
       "4  normal           0  Royal Challengers Bangalore           15   \n",
       "\n",
       "   win_by_wickets player_of_match                                      venue  \\\n",
       "0               0    Yuvraj Singh  Rajiv Gandhi International Stadium, Uppal   \n",
       "1               7       SPD Smith    Maharashtra Cricket Association Stadium   \n",
       "2              10         CA Lynn     Saurashtra Cricket Association Stadium   \n",
       "3               6      GJ Maxwell                     Holkar Cricket Stadium   \n",
       "4               0       KM Jadhav                      M Chinnaswamy Stadium   \n",
       "\n",
       "          umpire1        umpire2 umpire3  match_id  total_runs  \n",
       "0     AY Dandekar       NJ Llong     NaN         1         207  \n",
       "1  A Nand Kishore         S Ravi     NaN         2         184  \n",
       "2     Nitin Menon      CK Nandan     NaN         3         183  \n",
       "3    AK Chaudhary  C Shamshuddin     NaN         4         163  \n",
       "4             NaN            NaN     NaN         5         157  "
      ]
     },
     "execution_count": 9,
     "metadata": {},
     "output_type": "execute_result"
    }
   ],
   "source": [
    "match_df.head()"
   ]
  },
  {
   "cell_type": "code",
   "execution_count": 10,
   "id": "33388d72",
   "metadata": {
    "ExecuteTime": {
     "end_time": "2023-02-14T05:02:34.622305Z",
     "start_time": "2023-02-14T05:02:34.600476Z"
    }
   },
   "outputs": [
    {
     "data": {
      "text/plain": [
       "array(['Sunrisers Hyderabad', 'Mumbai Indians', 'Gujarat Lions',\n",
       "       'Rising Pune Supergiant', 'Royal Challengers Bangalore',\n",
       "       'Kolkata Knight Riders', 'Delhi Daredevils', 'Kings XI Punjab',\n",
       "       'Chennai Super Kings', 'Rajasthan Royals', 'Deccan Chargers',\n",
       "       'Kochi Tuskers Kerala', 'Pune Warriors', 'Rising Pune Supergiants',\n",
       "       'Delhi Capitals'], dtype=object)"
      ]
     },
     "execution_count": 10,
     "metadata": {},
     "output_type": "execute_result"
    }
   ],
   "source": [
    "match_df['team1'].unique()\n"
   ]
  },
  {
   "cell_type": "code",
   "execution_count": 16,
   "id": "d28a2d3d",
   "metadata": {
    "ExecuteTime": {
     "end_time": "2023-02-14T05:19:31.037092Z",
     "start_time": "2023-02-14T05:19:31.028297Z"
    }
   },
   "outputs": [],
   "source": [
    "teams = [\n",
    "    'Sunrisers Hyderabad',\n",
    "    'Mumbai Indians',\n",
    "    'Royal Challengers Bangalore',\n",
    "    'Kolkata Knight Riders',\n",
    "    'Kings XI Punjab',\n",
    "    'Chennai Super Kings',\n",
    "    'Rajasthan Royals',\n",
    "    'Delhi Capitals'\n",
    "]"
   ]
  },
  {
   "cell_type": "code",
   "execution_count": 17,
   "id": "e4494632",
   "metadata": {
    "ExecuteTime": {
     "end_time": "2023-02-14T05:19:32.140576Z",
     "start_time": "2023-02-14T05:19:32.123668Z"
    }
   },
   "outputs": [],
   "source": [
    "\n",
    "match_df['team1'] = match_df['team1'].str.replace('Delhi Daredevils','Delhi Capitals')\n",
    "match_df['team2'] = match_df['team2'].str.replace('Delhi Daredevils','Delhi Capitals')\n",
    "\n",
    "match_df['team1'] = match_df['team1'].str.replace('Deccan Chargers','Sunrisers Hyderabad')\n",
    "match_df['team2'] = match_df['team2'].str.replace('Deccan Chargers','Sunrisers Hyderabad')"
   ]
  },
  {
   "cell_type": "code",
   "execution_count": 18,
   "id": "1374a023",
   "metadata": {
    "ExecuteTime": {
     "end_time": "2023-02-14T05:19:33.040534Z",
     "start_time": "2023-02-14T05:19:33.019003Z"
    }
   },
   "outputs": [],
   "source": [
    "match_df = match_df[match_df['team1'].isin(teams)]\n",
    "match_df = match_df[match_df['team2'].isin(teams)]"
   ]
  },
  {
   "cell_type": "code",
   "execution_count": 20,
   "id": "9be7f612",
   "metadata": {
    "ExecuteTime": {
     "end_time": "2023-02-14T05:23:45.152312Z",
     "start_time": "2023-02-14T05:23:45.141593Z"
    }
   },
   "outputs": [
    {
     "data": {
      "text/plain": [
       "(641, 20)"
      ]
     },
     "execution_count": 20,
     "metadata": {},
     "output_type": "execute_result"
    }
   ],
   "source": [
    "match_df.shape"
   ]
  },
  {
   "cell_type": "code",
   "execution_count": 21,
   "id": "dff86fa3",
   "metadata": {
    "ExecuteTime": {
     "end_time": "2023-02-14T05:24:26.364543Z",
     "start_time": "2023-02-14T05:24:26.354514Z"
    }
   },
   "outputs": [],
   "source": [
    "match_df = match_df[match_df['dl_applied'] == 0]"
   ]
  },
  {
   "cell_type": "code",
   "execution_count": 22,
   "id": "1d8ce037",
   "metadata": {
    "ExecuteTime": {
     "end_time": "2023-02-14T05:24:55.838681Z",
     "start_time": "2023-02-14T05:24:55.805658Z"
    }
   },
   "outputs": [
    {
     "data": {
      "text/html": [
       "<div>\n",
       "<style scoped>\n",
       "    .dataframe tbody tr th:only-of-type {\n",
       "        vertical-align: middle;\n",
       "    }\n",
       "\n",
       "    .dataframe tbody tr th {\n",
       "        vertical-align: top;\n",
       "    }\n",
       "\n",
       "    .dataframe thead th {\n",
       "        text-align: right;\n",
       "    }\n",
       "</style>\n",
       "<table border=\"1\" class=\"dataframe\">\n",
       "  <thead>\n",
       "    <tr style=\"text-align: right;\">\n",
       "      <th></th>\n",
       "      <th>id</th>\n",
       "      <th>Season</th>\n",
       "      <th>city</th>\n",
       "      <th>date</th>\n",
       "      <th>team1</th>\n",
       "      <th>team2</th>\n",
       "      <th>toss_winner</th>\n",
       "      <th>toss_decision</th>\n",
       "      <th>result</th>\n",
       "      <th>dl_applied</th>\n",
       "      <th>winner</th>\n",
       "      <th>win_by_runs</th>\n",
       "      <th>win_by_wickets</th>\n",
       "      <th>player_of_match</th>\n",
       "      <th>venue</th>\n",
       "      <th>umpire1</th>\n",
       "      <th>umpire2</th>\n",
       "      <th>umpire3</th>\n",
       "      <th>match_id</th>\n",
       "      <th>total_runs</th>\n",
       "    </tr>\n",
       "  </thead>\n",
       "  <tbody>\n",
       "    <tr>\n",
       "      <th>0</th>\n",
       "      <td>1</td>\n",
       "      <td>IPL-2017</td>\n",
       "      <td>Hyderabad</td>\n",
       "      <td>05-04-2017</td>\n",
       "      <td>Sunrisers Hyderabad</td>\n",
       "      <td>Royal Challengers Bangalore</td>\n",
       "      <td>Royal Challengers Bangalore</td>\n",
       "      <td>field</td>\n",
       "      <td>normal</td>\n",
       "      <td>0</td>\n",
       "      <td>Sunrisers Hyderabad</td>\n",
       "      <td>35</td>\n",
       "      <td>0</td>\n",
       "      <td>Yuvraj Singh</td>\n",
       "      <td>Rajiv Gandhi International Stadium, Uppal</td>\n",
       "      <td>AY Dandekar</td>\n",
       "      <td>NJ Llong</td>\n",
       "      <td>NaN</td>\n",
       "      <td>1</td>\n",
       "      <td>207</td>\n",
       "    </tr>\n",
       "    <tr>\n",
       "      <th>4</th>\n",
       "      <td>5</td>\n",
       "      <td>IPL-2017</td>\n",
       "      <td>Bangalore</td>\n",
       "      <td>08-04-2017</td>\n",
       "      <td>Royal Challengers Bangalore</td>\n",
       "      <td>Delhi Capitals</td>\n",
       "      <td>Royal Challengers Bangalore</td>\n",
       "      <td>bat</td>\n",
       "      <td>normal</td>\n",
       "      <td>0</td>\n",
       "      <td>Royal Challengers Bangalore</td>\n",
       "      <td>15</td>\n",
       "      <td>0</td>\n",
       "      <td>KM Jadhav</td>\n",
       "      <td>M Chinnaswamy Stadium</td>\n",
       "      <td>NaN</td>\n",
       "      <td>NaN</td>\n",
       "      <td>NaN</td>\n",
       "      <td>5</td>\n",
       "      <td>157</td>\n",
       "    </tr>\n",
       "    <tr>\n",
       "      <th>6</th>\n",
       "      <td>7</td>\n",
       "      <td>IPL-2017</td>\n",
       "      <td>Mumbai</td>\n",
       "      <td>09-04-2017</td>\n",
       "      <td>Kolkata Knight Riders</td>\n",
       "      <td>Mumbai Indians</td>\n",
       "      <td>Mumbai Indians</td>\n",
       "      <td>field</td>\n",
       "      <td>normal</td>\n",
       "      <td>0</td>\n",
       "      <td>Mumbai Indians</td>\n",
       "      <td>0</td>\n",
       "      <td>4</td>\n",
       "      <td>N Rana</td>\n",
       "      <td>Wankhede Stadium</td>\n",
       "      <td>Nitin Menon</td>\n",
       "      <td>CK Nandan</td>\n",
       "      <td>NaN</td>\n",
       "      <td>7</td>\n",
       "      <td>178</td>\n",
       "    </tr>\n",
       "    <tr>\n",
       "      <th>7</th>\n",
       "      <td>8</td>\n",
       "      <td>IPL-2017</td>\n",
       "      <td>Indore</td>\n",
       "      <td>10-04-2017</td>\n",
       "      <td>Royal Challengers Bangalore</td>\n",
       "      <td>Kings XI Punjab</td>\n",
       "      <td>Royal Challengers Bangalore</td>\n",
       "      <td>bat</td>\n",
       "      <td>normal</td>\n",
       "      <td>0</td>\n",
       "      <td>Kings XI Punjab</td>\n",
       "      <td>0</td>\n",
       "      <td>8</td>\n",
       "      <td>AR Patel</td>\n",
       "      <td>Holkar Cricket Stadium</td>\n",
       "      <td>AK Chaudhary</td>\n",
       "      <td>C Shamshuddin</td>\n",
       "      <td>NaN</td>\n",
       "      <td>8</td>\n",
       "      <td>148</td>\n",
       "    </tr>\n",
       "    <tr>\n",
       "      <th>9</th>\n",
       "      <td>10</td>\n",
       "      <td>IPL-2017</td>\n",
       "      <td>Mumbai</td>\n",
       "      <td>12-04-2017</td>\n",
       "      <td>Sunrisers Hyderabad</td>\n",
       "      <td>Mumbai Indians</td>\n",
       "      <td>Mumbai Indians</td>\n",
       "      <td>field</td>\n",
       "      <td>normal</td>\n",
       "      <td>0</td>\n",
       "      <td>Mumbai Indians</td>\n",
       "      <td>0</td>\n",
       "      <td>4</td>\n",
       "      <td>JJ Bumrah</td>\n",
       "      <td>Wankhede Stadium</td>\n",
       "      <td>Nitin Menon</td>\n",
       "      <td>CK Nandan</td>\n",
       "      <td>NaN</td>\n",
       "      <td>10</td>\n",
       "      <td>158</td>\n",
       "    </tr>\n",
       "  </tbody>\n",
       "</table>\n",
       "</div>"
      ],
      "text/plain": [
       "   id    Season       city        date                        team1  \\\n",
       "0   1  IPL-2017  Hyderabad  05-04-2017          Sunrisers Hyderabad   \n",
       "4   5  IPL-2017  Bangalore  08-04-2017  Royal Challengers Bangalore   \n",
       "6   7  IPL-2017     Mumbai  09-04-2017        Kolkata Knight Riders   \n",
       "7   8  IPL-2017     Indore  10-04-2017  Royal Challengers Bangalore   \n",
       "9  10  IPL-2017     Mumbai  12-04-2017          Sunrisers Hyderabad   \n",
       "\n",
       "                         team2                  toss_winner toss_decision  \\\n",
       "0  Royal Challengers Bangalore  Royal Challengers Bangalore         field   \n",
       "4               Delhi Capitals  Royal Challengers Bangalore           bat   \n",
       "6               Mumbai Indians               Mumbai Indians         field   \n",
       "7              Kings XI Punjab  Royal Challengers Bangalore           bat   \n",
       "9               Mumbai Indians               Mumbai Indians         field   \n",
       "\n",
       "   result  dl_applied                       winner  win_by_runs  \\\n",
       "0  normal           0          Sunrisers Hyderabad           35   \n",
       "4  normal           0  Royal Challengers Bangalore           15   \n",
       "6  normal           0               Mumbai Indians            0   \n",
       "7  normal           0              Kings XI Punjab            0   \n",
       "9  normal           0               Mumbai Indians            0   \n",
       "\n",
       "   win_by_wickets player_of_match                                      venue  \\\n",
       "0               0    Yuvraj Singh  Rajiv Gandhi International Stadium, Uppal   \n",
       "4               0       KM Jadhav                      M Chinnaswamy Stadium   \n",
       "6               4          N Rana                           Wankhede Stadium   \n",
       "7               8        AR Patel                     Holkar Cricket Stadium   \n",
       "9               4       JJ Bumrah                           Wankhede Stadium   \n",
       "\n",
       "        umpire1        umpire2 umpire3  match_id  total_runs  \n",
       "0   AY Dandekar       NJ Llong     NaN         1         207  \n",
       "4           NaN            NaN     NaN         5         157  \n",
       "6   Nitin Menon      CK Nandan     NaN         7         178  \n",
       "7  AK Chaudhary  C Shamshuddin     NaN         8         148  \n",
       "9   Nitin Menon      CK Nandan     NaN        10         158  "
      ]
     },
     "execution_count": 22,
     "metadata": {},
     "output_type": "execute_result"
    }
   ],
   "source": [
    "match_df.head()"
   ]
  },
  {
   "cell_type": "code",
   "execution_count": 23,
   "id": "b8cd856c",
   "metadata": {
    "ExecuteTime": {
     "end_time": "2023-02-14T05:25:44.315157Z",
     "start_time": "2023-02-14T05:25:44.305688Z"
    }
   },
   "outputs": [],
   "source": [
    "match_df = match_df[['match_id','city','winner','total_runs']]"
   ]
  },
  {
   "cell_type": "code",
   "execution_count": 25,
   "id": "5cf55424",
   "metadata": {
    "ExecuteTime": {
     "end_time": "2023-02-14T05:26:56.646422Z",
     "start_time": "2023-02-14T05:26:56.495272Z"
    }
   },
   "outputs": [],
   "source": [
    "delivery_df = match_df.merge(delivery,on='match_id')"
   ]
  },
  {
   "cell_type": "code",
   "execution_count": 26,
   "id": "08b78bf5",
   "metadata": {
    "ExecuteTime": {
     "end_time": "2023-02-14T05:27:31.849272Z",
     "start_time": "2023-02-14T05:27:31.757843Z"
    }
   },
   "outputs": [],
   "source": [
    "delivery_df = delivery_df[delivery_df['inning'] == 2]"
   ]
  },
  {
   "cell_type": "code",
   "execution_count": 28,
   "id": "ce77ba1b",
   "metadata": {
    "ExecuteTime": {
     "end_time": "2023-02-14T05:28:39.783389Z",
     "start_time": "2023-02-14T05:28:39.755798Z"
    }
   },
   "outputs": [
    {
     "name": "stderr",
     "output_type": "stream",
     "text": [
      "C:\\Users\\Dell\\AppData\\Local\\Temp\\ipykernel_12280\\3025607697.py:1: FutureWarning: The default value of numeric_only in DataFrameGroupBy.cumsum is deprecated. In a future version, numeric_only will default to False. Either specify numeric_only or select only columns which should be valid for the function.\n",
      "  delivery_df['current_score'] = delivery_df.groupby('match_id').cumsum()['total_runs_y']\n"
     ]
    }
   ],
   "source": [
    "delivery_df['current_score'] = delivery_df.groupby('match_id').cumsum()['total_runs_y']"
   ]
  },
  {
   "cell_type": "code",
   "execution_count": 29,
   "id": "e2ea3adf",
   "metadata": {
    "ExecuteTime": {
     "end_time": "2023-02-14T05:29:29.982554Z",
     "start_time": "2023-02-14T05:29:29.971283Z"
    }
   },
   "outputs": [],
   "source": [
    "delivery_df['runs_left'] = delivery_df['total_runs_x'] - delivery_df['current_score']\n"
   ]
  },
  {
   "cell_type": "code",
   "execution_count": 30,
   "id": "adb18565",
   "metadata": {
    "ExecuteTime": {
     "end_time": "2023-02-14T05:29:58.514930Z",
     "start_time": "2023-02-14T05:29:58.503052Z"
    }
   },
   "outputs": [],
   "source": [
    "delivery_df['balls_left'] = 126 - (delivery_df['over']*6 + delivery_df['ball'])"
   ]
  },
  {
   "cell_type": "code",
   "execution_count": 31,
   "id": "20b95c7d",
   "metadata": {
    "ExecuteTime": {
     "end_time": "2023-02-14T05:30:52.461636Z",
     "start_time": "2023-02-14T05:30:52.420255Z"
    }
   },
   "outputs": [
    {
     "data": {
      "text/html": [
       "<div>\n",
       "<style scoped>\n",
       "    .dataframe tbody tr th:only-of-type {\n",
       "        vertical-align: middle;\n",
       "    }\n",
       "\n",
       "    .dataframe tbody tr th {\n",
       "        vertical-align: top;\n",
       "    }\n",
       "\n",
       "    .dataframe thead th {\n",
       "        text-align: right;\n",
       "    }\n",
       "</style>\n",
       "<table border=\"1\" class=\"dataframe\">\n",
       "  <thead>\n",
       "    <tr style=\"text-align: right;\">\n",
       "      <th></th>\n",
       "      <th>match_id</th>\n",
       "      <th>city</th>\n",
       "      <th>winner</th>\n",
       "      <th>total_runs_x</th>\n",
       "      <th>inning</th>\n",
       "      <th>batting_team</th>\n",
       "      <th>bowling_team</th>\n",
       "      <th>over</th>\n",
       "      <th>ball</th>\n",
       "      <th>batsman</th>\n",
       "      <th>...</th>\n",
       "      <th>penalty_runs</th>\n",
       "      <th>batsman_runs</th>\n",
       "      <th>extra_runs</th>\n",
       "      <th>total_runs_y</th>\n",
       "      <th>player_dismissed</th>\n",
       "      <th>dismissal_kind</th>\n",
       "      <th>fielder</th>\n",
       "      <th>current_score</th>\n",
       "      <th>runs_left</th>\n",
       "      <th>balls_left</th>\n",
       "    </tr>\n",
       "  </thead>\n",
       "  <tbody>\n",
       "    <tr>\n",
       "      <th>125</th>\n",
       "      <td>1</td>\n",
       "      <td>Hyderabad</td>\n",
       "      <td>Sunrisers Hyderabad</td>\n",
       "      <td>207</td>\n",
       "      <td>2</td>\n",
       "      <td>Royal Challengers Bangalore</td>\n",
       "      <td>Sunrisers Hyderabad</td>\n",
       "      <td>1</td>\n",
       "      <td>1</td>\n",
       "      <td>CH Gayle</td>\n",
       "      <td>...</td>\n",
       "      <td>0</td>\n",
       "      <td>1</td>\n",
       "      <td>0</td>\n",
       "      <td>1</td>\n",
       "      <td>NaN</td>\n",
       "      <td>NaN</td>\n",
       "      <td>NaN</td>\n",
       "      <td>1</td>\n",
       "      <td>206</td>\n",
       "      <td>119</td>\n",
       "    </tr>\n",
       "    <tr>\n",
       "      <th>126</th>\n",
       "      <td>1</td>\n",
       "      <td>Hyderabad</td>\n",
       "      <td>Sunrisers Hyderabad</td>\n",
       "      <td>207</td>\n",
       "      <td>2</td>\n",
       "      <td>Royal Challengers Bangalore</td>\n",
       "      <td>Sunrisers Hyderabad</td>\n",
       "      <td>1</td>\n",
       "      <td>2</td>\n",
       "      <td>Mandeep Singh</td>\n",
       "      <td>...</td>\n",
       "      <td>0</td>\n",
       "      <td>0</td>\n",
       "      <td>0</td>\n",
       "      <td>0</td>\n",
       "      <td>NaN</td>\n",
       "      <td>NaN</td>\n",
       "      <td>NaN</td>\n",
       "      <td>1</td>\n",
       "      <td>206</td>\n",
       "      <td>118</td>\n",
       "    </tr>\n",
       "    <tr>\n",
       "      <th>127</th>\n",
       "      <td>1</td>\n",
       "      <td>Hyderabad</td>\n",
       "      <td>Sunrisers Hyderabad</td>\n",
       "      <td>207</td>\n",
       "      <td>2</td>\n",
       "      <td>Royal Challengers Bangalore</td>\n",
       "      <td>Sunrisers Hyderabad</td>\n",
       "      <td>1</td>\n",
       "      <td>3</td>\n",
       "      <td>Mandeep Singh</td>\n",
       "      <td>...</td>\n",
       "      <td>0</td>\n",
       "      <td>0</td>\n",
       "      <td>0</td>\n",
       "      <td>0</td>\n",
       "      <td>NaN</td>\n",
       "      <td>NaN</td>\n",
       "      <td>NaN</td>\n",
       "      <td>1</td>\n",
       "      <td>206</td>\n",
       "      <td>117</td>\n",
       "    </tr>\n",
       "    <tr>\n",
       "      <th>128</th>\n",
       "      <td>1</td>\n",
       "      <td>Hyderabad</td>\n",
       "      <td>Sunrisers Hyderabad</td>\n",
       "      <td>207</td>\n",
       "      <td>2</td>\n",
       "      <td>Royal Challengers Bangalore</td>\n",
       "      <td>Sunrisers Hyderabad</td>\n",
       "      <td>1</td>\n",
       "      <td>4</td>\n",
       "      <td>Mandeep Singh</td>\n",
       "      <td>...</td>\n",
       "      <td>0</td>\n",
       "      <td>2</td>\n",
       "      <td>0</td>\n",
       "      <td>2</td>\n",
       "      <td>NaN</td>\n",
       "      <td>NaN</td>\n",
       "      <td>NaN</td>\n",
       "      <td>3</td>\n",
       "      <td>204</td>\n",
       "      <td>116</td>\n",
       "    </tr>\n",
       "    <tr>\n",
       "      <th>129</th>\n",
       "      <td>1</td>\n",
       "      <td>Hyderabad</td>\n",
       "      <td>Sunrisers Hyderabad</td>\n",
       "      <td>207</td>\n",
       "      <td>2</td>\n",
       "      <td>Royal Challengers Bangalore</td>\n",
       "      <td>Sunrisers Hyderabad</td>\n",
       "      <td>1</td>\n",
       "      <td>5</td>\n",
       "      <td>Mandeep Singh</td>\n",
       "      <td>...</td>\n",
       "      <td>0</td>\n",
       "      <td>4</td>\n",
       "      <td>0</td>\n",
       "      <td>4</td>\n",
       "      <td>NaN</td>\n",
       "      <td>NaN</td>\n",
       "      <td>NaN</td>\n",
       "      <td>7</td>\n",
       "      <td>200</td>\n",
       "      <td>115</td>\n",
       "    </tr>\n",
       "  </tbody>\n",
       "</table>\n",
       "<p>5 rows × 27 columns</p>\n",
       "</div>"
      ],
      "text/plain": [
       "     match_id       city               winner  total_runs_x  inning  \\\n",
       "125         1  Hyderabad  Sunrisers Hyderabad           207       2   \n",
       "126         1  Hyderabad  Sunrisers Hyderabad           207       2   \n",
       "127         1  Hyderabad  Sunrisers Hyderabad           207       2   \n",
       "128         1  Hyderabad  Sunrisers Hyderabad           207       2   \n",
       "129         1  Hyderabad  Sunrisers Hyderabad           207       2   \n",
       "\n",
       "                    batting_team         bowling_team  over  ball  \\\n",
       "125  Royal Challengers Bangalore  Sunrisers Hyderabad     1     1   \n",
       "126  Royal Challengers Bangalore  Sunrisers Hyderabad     1     2   \n",
       "127  Royal Challengers Bangalore  Sunrisers Hyderabad     1     3   \n",
       "128  Royal Challengers Bangalore  Sunrisers Hyderabad     1     4   \n",
       "129  Royal Challengers Bangalore  Sunrisers Hyderabad     1     5   \n",
       "\n",
       "           batsman  ... penalty_runs batsman_runs  extra_runs  total_runs_y  \\\n",
       "125       CH Gayle  ...            0            1           0             1   \n",
       "126  Mandeep Singh  ...            0            0           0             0   \n",
       "127  Mandeep Singh  ...            0            0           0             0   \n",
       "128  Mandeep Singh  ...            0            2           0             2   \n",
       "129  Mandeep Singh  ...            0            4           0             4   \n",
       "\n",
       "     player_dismissed  dismissal_kind  fielder  current_score  runs_left  \\\n",
       "125               NaN             NaN      NaN              1        206   \n",
       "126               NaN             NaN      NaN              1        206   \n",
       "127               NaN             NaN      NaN              1        206   \n",
       "128               NaN             NaN      NaN              3        204   \n",
       "129               NaN             NaN      NaN              7        200   \n",
       "\n",
       "     balls_left  \n",
       "125         119  \n",
       "126         118  \n",
       "127         117  \n",
       "128         116  \n",
       "129         115  \n",
       "\n",
       "[5 rows x 27 columns]"
      ]
     },
     "execution_count": 31,
     "metadata": {},
     "output_type": "execute_result"
    }
   ],
   "source": [
    "delivery_df.head()"
   ]
  },
  {
   "cell_type": "code",
   "execution_count": 32,
   "id": "ffb6cb12",
   "metadata": {
    "ExecuteTime": {
     "end_time": "2023-02-14T05:31:55.810631Z",
     "start_time": "2023-02-14T05:31:55.640573Z"
    }
   },
   "outputs": [
    {
     "name": "stderr",
     "output_type": "stream",
     "text": [
      "C:\\Users\\Dell\\AppData\\Local\\Temp\\ipykernel_12280\\3117972629.py:4: FutureWarning: The default value of numeric_only in DataFrameGroupBy.cumsum is deprecated. In a future version, numeric_only will default to False. Either specify numeric_only or select only columns which should be valid for the function.\n",
      "  wickets = delivery_df.groupby('match_id').cumsum()['player_dismissed'].values\n"
     ]
    },
    {
     "data": {
      "text/html": [
       "<div>\n",
       "<style scoped>\n",
       "    .dataframe tbody tr th:only-of-type {\n",
       "        vertical-align: middle;\n",
       "    }\n",
       "\n",
       "    .dataframe tbody tr th {\n",
       "        vertical-align: top;\n",
       "    }\n",
       "\n",
       "    .dataframe thead th {\n",
       "        text-align: right;\n",
       "    }\n",
       "</style>\n",
       "<table border=\"1\" class=\"dataframe\">\n",
       "  <thead>\n",
       "    <tr style=\"text-align: right;\">\n",
       "      <th></th>\n",
       "      <th>match_id</th>\n",
       "      <th>city</th>\n",
       "      <th>winner</th>\n",
       "      <th>total_runs_x</th>\n",
       "      <th>inning</th>\n",
       "      <th>batting_team</th>\n",
       "      <th>bowling_team</th>\n",
       "      <th>over</th>\n",
       "      <th>ball</th>\n",
       "      <th>batsman</th>\n",
       "      <th>...</th>\n",
       "      <th>batsman_runs</th>\n",
       "      <th>extra_runs</th>\n",
       "      <th>total_runs_y</th>\n",
       "      <th>player_dismissed</th>\n",
       "      <th>dismissal_kind</th>\n",
       "      <th>fielder</th>\n",
       "      <th>current_score</th>\n",
       "      <th>runs_left</th>\n",
       "      <th>balls_left</th>\n",
       "      <th>wickets</th>\n",
       "    </tr>\n",
       "  </thead>\n",
       "  <tbody>\n",
       "    <tr>\n",
       "      <th>125</th>\n",
       "      <td>1</td>\n",
       "      <td>Hyderabad</td>\n",
       "      <td>Sunrisers Hyderabad</td>\n",
       "      <td>207</td>\n",
       "      <td>2</td>\n",
       "      <td>Royal Challengers Bangalore</td>\n",
       "      <td>Sunrisers Hyderabad</td>\n",
       "      <td>1</td>\n",
       "      <td>1</td>\n",
       "      <td>CH Gayle</td>\n",
       "      <td>...</td>\n",
       "      <td>1</td>\n",
       "      <td>0</td>\n",
       "      <td>1</td>\n",
       "      <td>0</td>\n",
       "      <td>NaN</td>\n",
       "      <td>NaN</td>\n",
       "      <td>1</td>\n",
       "      <td>206</td>\n",
       "      <td>119</td>\n",
       "      <td>10</td>\n",
       "    </tr>\n",
       "    <tr>\n",
       "      <th>126</th>\n",
       "      <td>1</td>\n",
       "      <td>Hyderabad</td>\n",
       "      <td>Sunrisers Hyderabad</td>\n",
       "      <td>207</td>\n",
       "      <td>2</td>\n",
       "      <td>Royal Challengers Bangalore</td>\n",
       "      <td>Sunrisers Hyderabad</td>\n",
       "      <td>1</td>\n",
       "      <td>2</td>\n",
       "      <td>Mandeep Singh</td>\n",
       "      <td>...</td>\n",
       "      <td>0</td>\n",
       "      <td>0</td>\n",
       "      <td>0</td>\n",
       "      <td>0</td>\n",
       "      <td>NaN</td>\n",
       "      <td>NaN</td>\n",
       "      <td>1</td>\n",
       "      <td>206</td>\n",
       "      <td>118</td>\n",
       "      <td>10</td>\n",
       "    </tr>\n",
       "    <tr>\n",
       "      <th>127</th>\n",
       "      <td>1</td>\n",
       "      <td>Hyderabad</td>\n",
       "      <td>Sunrisers Hyderabad</td>\n",
       "      <td>207</td>\n",
       "      <td>2</td>\n",
       "      <td>Royal Challengers Bangalore</td>\n",
       "      <td>Sunrisers Hyderabad</td>\n",
       "      <td>1</td>\n",
       "      <td>3</td>\n",
       "      <td>Mandeep Singh</td>\n",
       "      <td>...</td>\n",
       "      <td>0</td>\n",
       "      <td>0</td>\n",
       "      <td>0</td>\n",
       "      <td>0</td>\n",
       "      <td>NaN</td>\n",
       "      <td>NaN</td>\n",
       "      <td>1</td>\n",
       "      <td>206</td>\n",
       "      <td>117</td>\n",
       "      <td>10</td>\n",
       "    </tr>\n",
       "    <tr>\n",
       "      <th>128</th>\n",
       "      <td>1</td>\n",
       "      <td>Hyderabad</td>\n",
       "      <td>Sunrisers Hyderabad</td>\n",
       "      <td>207</td>\n",
       "      <td>2</td>\n",
       "      <td>Royal Challengers Bangalore</td>\n",
       "      <td>Sunrisers Hyderabad</td>\n",
       "      <td>1</td>\n",
       "      <td>4</td>\n",
       "      <td>Mandeep Singh</td>\n",
       "      <td>...</td>\n",
       "      <td>2</td>\n",
       "      <td>0</td>\n",
       "      <td>2</td>\n",
       "      <td>0</td>\n",
       "      <td>NaN</td>\n",
       "      <td>NaN</td>\n",
       "      <td>3</td>\n",
       "      <td>204</td>\n",
       "      <td>116</td>\n",
       "      <td>10</td>\n",
       "    </tr>\n",
       "    <tr>\n",
       "      <th>129</th>\n",
       "      <td>1</td>\n",
       "      <td>Hyderabad</td>\n",
       "      <td>Sunrisers Hyderabad</td>\n",
       "      <td>207</td>\n",
       "      <td>2</td>\n",
       "      <td>Royal Challengers Bangalore</td>\n",
       "      <td>Sunrisers Hyderabad</td>\n",
       "      <td>1</td>\n",
       "      <td>5</td>\n",
       "      <td>Mandeep Singh</td>\n",
       "      <td>...</td>\n",
       "      <td>4</td>\n",
       "      <td>0</td>\n",
       "      <td>4</td>\n",
       "      <td>0</td>\n",
       "      <td>NaN</td>\n",
       "      <td>NaN</td>\n",
       "      <td>7</td>\n",
       "      <td>200</td>\n",
       "      <td>115</td>\n",
       "      <td>10</td>\n",
       "    </tr>\n",
       "  </tbody>\n",
       "</table>\n",
       "<p>5 rows × 28 columns</p>\n",
       "</div>"
      ],
      "text/plain": [
       "     match_id       city               winner  total_runs_x  inning  \\\n",
       "125         1  Hyderabad  Sunrisers Hyderabad           207       2   \n",
       "126         1  Hyderabad  Sunrisers Hyderabad           207       2   \n",
       "127         1  Hyderabad  Sunrisers Hyderabad           207       2   \n",
       "128         1  Hyderabad  Sunrisers Hyderabad           207       2   \n",
       "129         1  Hyderabad  Sunrisers Hyderabad           207       2   \n",
       "\n",
       "                    batting_team         bowling_team  over  ball  \\\n",
       "125  Royal Challengers Bangalore  Sunrisers Hyderabad     1     1   \n",
       "126  Royal Challengers Bangalore  Sunrisers Hyderabad     1     2   \n",
       "127  Royal Challengers Bangalore  Sunrisers Hyderabad     1     3   \n",
       "128  Royal Challengers Bangalore  Sunrisers Hyderabad     1     4   \n",
       "129  Royal Challengers Bangalore  Sunrisers Hyderabad     1     5   \n",
       "\n",
       "           batsman  ... batsman_runs extra_runs  total_runs_y  \\\n",
       "125       CH Gayle  ...            1          0             1   \n",
       "126  Mandeep Singh  ...            0          0             0   \n",
       "127  Mandeep Singh  ...            0          0             0   \n",
       "128  Mandeep Singh  ...            2          0             2   \n",
       "129  Mandeep Singh  ...            4          0             4   \n",
       "\n",
       "     player_dismissed  dismissal_kind  fielder  current_score  runs_left  \\\n",
       "125                 0             NaN      NaN              1        206   \n",
       "126                 0             NaN      NaN              1        206   \n",
       "127                 0             NaN      NaN              1        206   \n",
       "128                 0             NaN      NaN              3        204   \n",
       "129                 0             NaN      NaN              7        200   \n",
       "\n",
       "     balls_left  wickets  \n",
       "125         119       10  \n",
       "126         118       10  \n",
       "127         117       10  \n",
       "128         116       10  \n",
       "129         115       10  \n",
       "\n",
       "[5 rows x 28 columns]"
      ]
     },
     "execution_count": 32,
     "metadata": {},
     "output_type": "execute_result"
    }
   ],
   "source": [
    "delivery_df['player_dismissed'] = delivery_df['player_dismissed'].fillna(\"0\")\n",
    "delivery_df['player_dismissed'] = delivery_df['player_dismissed'].apply(lambda x:x if x == \"0\" else \"1\")\n",
    "delivery_df['player_dismissed'] = delivery_df['player_dismissed'].astype('int')\n",
    "wickets = delivery_df.groupby('match_id').cumsum()['player_dismissed'].values\n",
    "delivery_df['wickets'] = 10 - wickets\n",
    "delivery_df.head()"
   ]
  },
  {
   "cell_type": "code",
   "execution_count": 33,
   "id": "b35beb8c",
   "metadata": {
    "ExecuteTime": {
     "end_time": "2023-02-14T05:34:42.937977Z",
     "start_time": "2023-02-14T05:34:42.926782Z"
    }
   },
   "outputs": [],
   "source": [
    "delivery_df['crr'] = (delivery_df['current_score']*6)/(120 - delivery_df['balls_left'])"
   ]
  },
  {
   "cell_type": "code",
   "execution_count": 38,
   "id": "2d08eef5",
   "metadata": {
    "ExecuteTime": {
     "end_time": "2023-02-14T05:39:58.197984Z",
     "start_time": "2023-02-14T05:39:58.186311Z"
    }
   },
   "outputs": [],
   "source": [
    "delivery_df['rrr'] = (delivery_df['runs_left']*6)/delivery_df['balls_left']"
   ]
  },
  {
   "cell_type": "code",
   "execution_count": 39,
   "id": "616c7d57",
   "metadata": {
    "ExecuteTime": {
     "end_time": "2023-02-14T05:40:10.706932Z",
     "start_time": "2023-02-14T05:40:10.698966Z"
    }
   },
   "outputs": [],
   "source": [
    "def result(row):\n",
    "    return 1 if row['batting_team'] == row['winner'] else 0"
   ]
  },
  {
   "cell_type": "code",
   "execution_count": 40,
   "id": "f330be4a",
   "metadata": {
    "ExecuteTime": {
     "end_time": "2023-02-14T05:40:12.113088Z",
     "start_time": "2023-02-14T05:40:11.257973Z"
    }
   },
   "outputs": [],
   "source": [
    "delivery_df['result'] = delivery_df.apply(result,axis=1)"
   ]
  },
  {
   "cell_type": "code",
   "execution_count": 42,
   "id": "a50634c3",
   "metadata": {
    "ExecuteTime": {
     "end_time": "2023-02-14T05:41:27.301679Z",
     "start_time": "2023-02-14T05:41:27.270659Z"
    }
   },
   "outputs": [],
   "source": [
    "final_df = delivery_df[['batting_team','bowling_team','city','runs_left','balls_left','wickets','total_runs_x','crr','rrr','result']]"
   ]
  },
  {
   "cell_type": "code",
   "execution_count": 43,
   "id": "23418769",
   "metadata": {
    "ExecuteTime": {
     "end_time": "2023-02-14T05:41:29.140652Z",
     "start_time": "2023-02-14T05:41:29.109017Z"
    }
   },
   "outputs": [],
   "source": [
    "final_df = final_df.sample(final_df.shape[0])"
   ]
  },
  {
   "cell_type": "code",
   "execution_count": 44,
   "id": "af6ab85c",
   "metadata": {
    "ExecuteTime": {
     "end_time": "2023-02-14T05:42:06.487298Z",
     "start_time": "2023-02-14T05:42:06.456957Z"
    }
   },
   "outputs": [
    {
     "data": {
      "text/html": [
       "<div>\n",
       "<style scoped>\n",
       "    .dataframe tbody tr th:only-of-type {\n",
       "        vertical-align: middle;\n",
       "    }\n",
       "\n",
       "    .dataframe tbody tr th {\n",
       "        vertical-align: top;\n",
       "    }\n",
       "\n",
       "    .dataframe thead th {\n",
       "        text-align: right;\n",
       "    }\n",
       "</style>\n",
       "<table border=\"1\" class=\"dataframe\">\n",
       "  <thead>\n",
       "    <tr style=\"text-align: right;\">\n",
       "      <th></th>\n",
       "      <th>batting_team</th>\n",
       "      <th>bowling_team</th>\n",
       "      <th>city</th>\n",
       "      <th>runs_left</th>\n",
       "      <th>balls_left</th>\n",
       "      <th>wickets</th>\n",
       "      <th>total_runs_x</th>\n",
       "      <th>crr</th>\n",
       "      <th>rrr</th>\n",
       "      <th>result</th>\n",
       "    </tr>\n",
       "  </thead>\n",
       "  <tbody>\n",
       "    <tr>\n",
       "      <th>103160</th>\n",
       "      <td>Kolkata Knight Riders</td>\n",
       "      <td>Chennai Super Kings</td>\n",
       "      <td>Kolkata</td>\n",
       "      <td>33</td>\n",
       "      <td>24</td>\n",
       "      <td>7</td>\n",
       "      <td>165</td>\n",
       "      <td>8.25</td>\n",
       "      <td>8.25</td>\n",
       "      <td>1</td>\n",
       "    </tr>\n",
       "  </tbody>\n",
       "</table>\n",
       "</div>"
      ],
      "text/plain": [
       "                 batting_team         bowling_team     city  runs_left  \\\n",
       "103160  Kolkata Knight Riders  Chennai Super Kings  Kolkata         33   \n",
       "\n",
       "        balls_left  wickets  total_runs_x   crr   rrr  result  \n",
       "103160          24        7           165  8.25  8.25       1  "
      ]
     },
     "execution_count": 44,
     "metadata": {},
     "output_type": "execute_result"
    }
   ],
   "source": [
    "final_df.sample()\n"
   ]
  },
  {
   "cell_type": "code",
   "execution_count": 45,
   "id": "da4f7555",
   "metadata": {
    "ExecuteTime": {
     "end_time": "2023-02-14T05:42:43.533992Z",
     "start_time": "2023-02-14T05:42:43.475707Z"
    }
   },
   "outputs": [],
   "source": [
    "final_df.dropna(inplace=True)"
   ]
  },
  {
   "cell_type": "code",
   "execution_count": 46,
   "id": "7ceb311e",
   "metadata": {
    "ExecuteTime": {
     "end_time": "2023-02-14T05:42:57.208270Z",
     "start_time": "2023-02-14T05:42:57.187265Z"
    }
   },
   "outputs": [],
   "source": [
    "final_df = final_df[final_df['balls_left'] != 0]"
   ]
  },
  {
   "cell_type": "code",
   "execution_count": 50,
   "id": "35e659c6",
   "metadata": {
    "ExecuteTime": {
     "end_time": "2023-02-14T05:47:17.115122Z",
     "start_time": "2023-02-14T05:47:12.123652Z"
    }
   },
   "outputs": [],
   "source": [
    "X = final_df.iloc[:,:-1]\n",
    "y = final_df.iloc[:,-1]\n",
    "from sklearn.model_selection import train_test_split\n",
    "X_train,X_test,y_train,y_test = train_test_split(X,y,test_size=0.2,random_state=1)"
   ]
  },
  {
   "cell_type": "code",
   "execution_count": 51,
   "id": "8eb61012",
   "metadata": {
    "ExecuteTime": {
     "end_time": "2023-02-14T05:48:45.135731Z",
     "start_time": "2023-02-14T05:48:45.089815Z"
    }
   },
   "outputs": [
    {
     "data": {
      "text/html": [
       "<div>\n",
       "<style scoped>\n",
       "    .dataframe tbody tr th:only-of-type {\n",
       "        vertical-align: middle;\n",
       "    }\n",
       "\n",
       "    .dataframe tbody tr th {\n",
       "        vertical-align: top;\n",
       "    }\n",
       "\n",
       "    .dataframe thead th {\n",
       "        text-align: right;\n",
       "    }\n",
       "</style>\n",
       "<table border=\"1\" class=\"dataframe\">\n",
       "  <thead>\n",
       "    <tr style=\"text-align: right;\">\n",
       "      <th></th>\n",
       "      <th>batting_team</th>\n",
       "      <th>bowling_team</th>\n",
       "      <th>city</th>\n",
       "      <th>runs_left</th>\n",
       "      <th>balls_left</th>\n",
       "      <th>wickets</th>\n",
       "      <th>total_runs_x</th>\n",
       "      <th>crr</th>\n",
       "      <th>rrr</th>\n",
       "    </tr>\n",
       "  </thead>\n",
       "  <tbody>\n",
       "    <tr>\n",
       "      <th>128691</th>\n",
       "      <td>Kolkata Knight Riders</td>\n",
       "      <td>Chennai Super Kings</td>\n",
       "      <td>Kolkata</td>\n",
       "      <td>138</td>\n",
       "      <td>91</td>\n",
       "      <td>8</td>\n",
       "      <td>184</td>\n",
       "      <td>9.517241</td>\n",
       "      <td>9.098901</td>\n",
       "    </tr>\n",
       "    <tr>\n",
       "      <th>34272</th>\n",
       "      <td>Kolkata Knight Riders</td>\n",
       "      <td>Royal Challengers Bangalore</td>\n",
       "      <td>Kolkata</td>\n",
       "      <td>34</td>\n",
       "      <td>50</td>\n",
       "      <td>9</td>\n",
       "      <td>135</td>\n",
       "      <td>8.657143</td>\n",
       "      <td>4.080000</td>\n",
       "    </tr>\n",
       "    <tr>\n",
       "      <th>118108</th>\n",
       "      <td>Kings XI Punjab</td>\n",
       "      <td>Kolkata Knight Riders</td>\n",
       "      <td>Kolkata</td>\n",
       "      <td>15</td>\n",
       "      <td>9</td>\n",
       "      <td>4</td>\n",
       "      <td>164</td>\n",
       "      <td>8.054054</td>\n",
       "      <td>10.000000</td>\n",
       "    </tr>\n",
       "    <tr>\n",
       "      <th>109614</th>\n",
       "      <td>Mumbai Indians</td>\n",
       "      <td>Delhi Daredevils</td>\n",
       "      <td>Mumbai</td>\n",
       "      <td>151</td>\n",
       "      <td>119</td>\n",
       "      <td>10</td>\n",
       "      <td>152</td>\n",
       "      <td>6.000000</td>\n",
       "      <td>7.613445</td>\n",
       "    </tr>\n",
       "    <tr>\n",
       "      <th>81185</th>\n",
       "      <td>Kings XI Punjab</td>\n",
       "      <td>Royal Challengers Bangalore</td>\n",
       "      <td>Bangalore</td>\n",
       "      <td>12</td>\n",
       "      <td>20</td>\n",
       "      <td>8</td>\n",
       "      <td>174</td>\n",
       "      <td>9.720000</td>\n",
       "      <td>3.600000</td>\n",
       "    </tr>\n",
       "    <tr>\n",
       "      <th>...</th>\n",
       "      <td>...</td>\n",
       "      <td>...</td>\n",
       "      <td>...</td>\n",
       "      <td>...</td>\n",
       "      <td>...</td>\n",
       "      <td>...</td>\n",
       "      <td>...</td>\n",
       "      <td>...</td>\n",
       "      <td>...</td>\n",
       "    </tr>\n",
       "    <tr>\n",
       "      <th>81391</th>\n",
       "      <td>Chennai Super Kings</td>\n",
       "      <td>Mumbai Indians</td>\n",
       "      <td>Mumbai</td>\n",
       "      <td>85</td>\n",
       "      <td>48</td>\n",
       "      <td>3</td>\n",
       "      <td>139</td>\n",
       "      <td>4.500000</td>\n",
       "      <td>10.625000</td>\n",
       "    </tr>\n",
       "    <tr>\n",
       "      <th>3779</th>\n",
       "      <td>Kolkata Knight Riders</td>\n",
       "      <td>Delhi Daredevils</td>\n",
       "      <td>Kolkata</td>\n",
       "      <td>26</td>\n",
       "      <td>37</td>\n",
       "      <td>8</td>\n",
       "      <td>160</td>\n",
       "      <td>9.686747</td>\n",
       "      <td>4.216216</td>\n",
       "    </tr>\n",
       "    <tr>\n",
       "      <th>141978</th>\n",
       "      <td>Royal Challengers Bangalore</td>\n",
       "      <td>Kings XI Punjab</td>\n",
       "      <td>Mohali</td>\n",
       "      <td>109</td>\n",
       "      <td>77</td>\n",
       "      <td>9</td>\n",
       "      <td>180</td>\n",
       "      <td>9.906977</td>\n",
       "      <td>8.493506</td>\n",
       "    </tr>\n",
       "    <tr>\n",
       "      <th>91765</th>\n",
       "      <td>Mumbai Indians</td>\n",
       "      <td>Kings XI Punjab</td>\n",
       "      <td>Mumbai</td>\n",
       "      <td>53</td>\n",
       "      <td>34</td>\n",
       "      <td>7</td>\n",
       "      <td>168</td>\n",
       "      <td>8.023256</td>\n",
       "      <td>9.352941</td>\n",
       "    </tr>\n",
       "    <tr>\n",
       "      <th>137895</th>\n",
       "      <td>Royal Challengers Bangalore</td>\n",
       "      <td>Sunrisers Hyderabad</td>\n",
       "      <td>Hyderabad</td>\n",
       "      <td>149</td>\n",
       "      <td>40</td>\n",
       "      <td>4</td>\n",
       "      <td>233</td>\n",
       "      <td>6.300000</td>\n",
       "      <td>22.350000</td>\n",
       "    </tr>\n",
       "  </tbody>\n",
       "</table>\n",
       "<p>57073 rows × 9 columns</p>\n",
       "</div>"
      ],
      "text/plain": [
       "                       batting_team                 bowling_team       city  \\\n",
       "128691        Kolkata Knight Riders          Chennai Super Kings    Kolkata   \n",
       "34272         Kolkata Knight Riders  Royal Challengers Bangalore    Kolkata   \n",
       "118108              Kings XI Punjab        Kolkata Knight Riders    Kolkata   \n",
       "109614               Mumbai Indians             Delhi Daredevils     Mumbai   \n",
       "81185               Kings XI Punjab  Royal Challengers Bangalore  Bangalore   \n",
       "...                             ...                          ...        ...   \n",
       "81391           Chennai Super Kings               Mumbai Indians     Mumbai   \n",
       "3779          Kolkata Knight Riders             Delhi Daredevils    Kolkata   \n",
       "141978  Royal Challengers Bangalore              Kings XI Punjab     Mohali   \n",
       "91765                Mumbai Indians              Kings XI Punjab     Mumbai   \n",
       "137895  Royal Challengers Bangalore          Sunrisers Hyderabad  Hyderabad   \n",
       "\n",
       "        runs_left  balls_left  wickets  total_runs_x       crr        rrr  \n",
       "128691        138          91        8           184  9.517241   9.098901  \n",
       "34272          34          50        9           135  8.657143   4.080000  \n",
       "118108         15           9        4           164  8.054054  10.000000  \n",
       "109614        151         119       10           152  6.000000   7.613445  \n",
       "81185          12          20        8           174  9.720000   3.600000  \n",
       "...           ...         ...      ...           ...       ...        ...  \n",
       "81391          85          48        3           139  4.500000  10.625000  \n",
       "3779           26          37        8           160  9.686747   4.216216  \n",
       "141978        109          77        9           180  9.906977   8.493506  \n",
       "91765          53          34        7           168  8.023256   9.352941  \n",
       "137895        149          40        4           233  6.300000  22.350000  \n",
       "\n",
       "[57073 rows x 9 columns]"
      ]
     },
     "execution_count": 51,
     "metadata": {},
     "output_type": "execute_result"
    }
   ],
   "source": [
    "X_train"
   ]
  },
  {
   "cell_type": "code",
   "execution_count": 53,
   "id": "7889b3cb",
   "metadata": {
    "ExecuteTime": {
     "end_time": "2023-02-14T05:51:28.052624Z",
     "start_time": "2023-02-14T05:51:28.041198Z"
    }
   },
   "outputs": [],
   "source": [
    "from sklearn.compose import ColumnTransformer\n",
    "from sklearn.preprocessing import OneHotEncoder"
   ]
  },
  {
   "cell_type": "code",
   "execution_count": 54,
   "id": "e63b3369",
   "metadata": {
    "ExecuteTime": {
     "end_time": "2023-02-14T05:52:00.064956Z",
     "start_time": "2023-02-14T05:52:00.053422Z"
    }
   },
   "outputs": [],
   "source": [
    "trf = ColumnTransformer([\n",
    "    ('trf',OneHotEncoder(sparse=False,drop='first'),['batting_team','bowling_team','city'])\n",
    "]\n",
    ",remainder='passthrough')"
   ]
  },
  {
   "cell_type": "code",
   "execution_count": 55,
   "id": "d75d5af6",
   "metadata": {
    "ExecuteTime": {
     "end_time": "2023-02-14T05:52:15.761804Z",
     "start_time": "2023-02-14T05:52:14.533210Z"
    }
   },
   "outputs": [],
   "source": [
    "from sklearn.linear_model import LogisticRegression\n",
    "from sklearn.ensemble import RandomForestClassifier\n",
    "from sklearn.pipeline import Pipeline"
   ]
  },
  {
   "cell_type": "code",
   "execution_count": 56,
   "id": "e28a493d",
   "metadata": {
    "ExecuteTime": {
     "end_time": "2023-02-14T05:52:32.207285Z",
     "start_time": "2023-02-14T05:52:32.199390Z"
    }
   },
   "outputs": [],
   "source": [
    "pipe = Pipeline(steps=[\n",
    "    ('step1',trf),\n",
    "    ('step2',LogisticRegression(solver='liblinear'))\n",
    "])"
   ]
  },
  {
   "cell_type": "code",
   "execution_count": 57,
   "id": "408f2864",
   "metadata": {
    "ExecuteTime": {
     "end_time": "2023-02-14T06:51:51.622277Z",
     "start_time": "2023-02-14T06:51:50.460868Z"
    }
   },
   "outputs": [
    {
     "name": "stderr",
     "output_type": "stream",
     "text": [
      "C:\\Users\\Dell\\AppData\\Local\\Programs\\Python\\Python311\\Lib\\site-packages\\sklearn\\preprocessing\\_encoders.py:828: FutureWarning: `sparse` was renamed to `sparse_output` in version 1.2 and will be removed in 1.4. `sparse_output` is ignored unless you leave `sparse` to its default value.\n",
      "  warnings.warn(\n"
     ]
    },
    {
     "data": {
      "text/html": [
       "<style>#sk-container-id-1 {color: black;background-color: white;}#sk-container-id-1 pre{padding: 0;}#sk-container-id-1 div.sk-toggleable {background-color: white;}#sk-container-id-1 label.sk-toggleable__label {cursor: pointer;display: block;width: 100%;margin-bottom: 0;padding: 0.3em;box-sizing: border-box;text-align: center;}#sk-container-id-1 label.sk-toggleable__label-arrow:before {content: \"▸\";float: left;margin-right: 0.25em;color: #696969;}#sk-container-id-1 label.sk-toggleable__label-arrow:hover:before {color: black;}#sk-container-id-1 div.sk-estimator:hover label.sk-toggleable__label-arrow:before {color: black;}#sk-container-id-1 div.sk-toggleable__content {max-height: 0;max-width: 0;overflow: hidden;text-align: left;background-color: #f0f8ff;}#sk-container-id-1 div.sk-toggleable__content pre {margin: 0.2em;color: black;border-radius: 0.25em;background-color: #f0f8ff;}#sk-container-id-1 input.sk-toggleable__control:checked~div.sk-toggleable__content {max-height: 200px;max-width: 100%;overflow: auto;}#sk-container-id-1 input.sk-toggleable__control:checked~label.sk-toggleable__label-arrow:before {content: \"▾\";}#sk-container-id-1 div.sk-estimator input.sk-toggleable__control:checked~label.sk-toggleable__label {background-color: #d4ebff;}#sk-container-id-1 div.sk-label input.sk-toggleable__control:checked~label.sk-toggleable__label {background-color: #d4ebff;}#sk-container-id-1 input.sk-hidden--visually {border: 0;clip: rect(1px 1px 1px 1px);clip: rect(1px, 1px, 1px, 1px);height: 1px;margin: -1px;overflow: hidden;padding: 0;position: absolute;width: 1px;}#sk-container-id-1 div.sk-estimator {font-family: monospace;background-color: #f0f8ff;border: 1px dotted black;border-radius: 0.25em;box-sizing: border-box;margin-bottom: 0.5em;}#sk-container-id-1 div.sk-estimator:hover {background-color: #d4ebff;}#sk-container-id-1 div.sk-parallel-item::after {content: \"\";width: 100%;border-bottom: 1px solid gray;flex-grow: 1;}#sk-container-id-1 div.sk-label:hover label.sk-toggleable__label {background-color: #d4ebff;}#sk-container-id-1 div.sk-serial::before {content: \"\";position: absolute;border-left: 1px solid gray;box-sizing: border-box;top: 0;bottom: 0;left: 50%;z-index: 0;}#sk-container-id-1 div.sk-serial {display: flex;flex-direction: column;align-items: center;background-color: white;padding-right: 0.2em;padding-left: 0.2em;position: relative;}#sk-container-id-1 div.sk-item {position: relative;z-index: 1;}#sk-container-id-1 div.sk-parallel {display: flex;align-items: stretch;justify-content: center;background-color: white;position: relative;}#sk-container-id-1 div.sk-item::before, #sk-container-id-1 div.sk-parallel-item::before {content: \"\";position: absolute;border-left: 1px solid gray;box-sizing: border-box;top: 0;bottom: 0;left: 50%;z-index: -1;}#sk-container-id-1 div.sk-parallel-item {display: flex;flex-direction: column;z-index: 1;position: relative;background-color: white;}#sk-container-id-1 div.sk-parallel-item:first-child::after {align-self: flex-end;width: 50%;}#sk-container-id-1 div.sk-parallel-item:last-child::after {align-self: flex-start;width: 50%;}#sk-container-id-1 div.sk-parallel-item:only-child::after {width: 0;}#sk-container-id-1 div.sk-dashed-wrapped {border: 1px dashed gray;margin: 0 0.4em 0.5em 0.4em;box-sizing: border-box;padding-bottom: 0.4em;background-color: white;}#sk-container-id-1 div.sk-label label {font-family: monospace;font-weight: bold;display: inline-block;line-height: 1.2em;}#sk-container-id-1 div.sk-label-container {text-align: center;}#sk-container-id-1 div.sk-container {/* jupyter's `normalize.less` sets `[hidden] { display: none; }` but bootstrap.min.css set `[hidden] { display: none !important; }` so we also need the `!important` here to be able to override the default hidden behavior on the sphinx rendered scikit-learn.org. See: https://github.com/scikit-learn/scikit-learn/issues/21755 */display: inline-block !important;position: relative;}#sk-container-id-1 div.sk-text-repr-fallback {display: none;}</style><div id=\"sk-container-id-1\" class=\"sk-top-container\"><div class=\"sk-text-repr-fallback\"><pre>Pipeline(steps=[(&#x27;step1&#x27;,\n",
       "                 ColumnTransformer(remainder=&#x27;passthrough&#x27;,\n",
       "                                   transformers=[(&#x27;trf&#x27;,\n",
       "                                                  OneHotEncoder(drop=&#x27;first&#x27;,\n",
       "                                                                sparse=False),\n",
       "                                                  [&#x27;batting_team&#x27;,\n",
       "                                                   &#x27;bowling_team&#x27;, &#x27;city&#x27;])])),\n",
       "                (&#x27;step2&#x27;, LogisticRegression(solver=&#x27;liblinear&#x27;))])</pre><b>In a Jupyter environment, please rerun this cell to show the HTML representation or trust the notebook. <br />On GitHub, the HTML representation is unable to render, please try loading this page with nbviewer.org.</b></div><div class=\"sk-container\" hidden><div class=\"sk-item sk-dashed-wrapped\"><div class=\"sk-label-container\"><div class=\"sk-label sk-toggleable\"><input class=\"sk-toggleable__control sk-hidden--visually\" id=\"sk-estimator-id-1\" type=\"checkbox\" ><label for=\"sk-estimator-id-1\" class=\"sk-toggleable__label sk-toggleable__label-arrow\">Pipeline</label><div class=\"sk-toggleable__content\"><pre>Pipeline(steps=[(&#x27;step1&#x27;,\n",
       "                 ColumnTransformer(remainder=&#x27;passthrough&#x27;,\n",
       "                                   transformers=[(&#x27;trf&#x27;,\n",
       "                                                  OneHotEncoder(drop=&#x27;first&#x27;,\n",
       "                                                                sparse=False),\n",
       "                                                  [&#x27;batting_team&#x27;,\n",
       "                                                   &#x27;bowling_team&#x27;, &#x27;city&#x27;])])),\n",
       "                (&#x27;step2&#x27;, LogisticRegression(solver=&#x27;liblinear&#x27;))])</pre></div></div></div><div class=\"sk-serial\"><div class=\"sk-item sk-dashed-wrapped\"><div class=\"sk-label-container\"><div class=\"sk-label sk-toggleable\"><input class=\"sk-toggleable__control sk-hidden--visually\" id=\"sk-estimator-id-2\" type=\"checkbox\" ><label for=\"sk-estimator-id-2\" class=\"sk-toggleable__label sk-toggleable__label-arrow\">step1: ColumnTransformer</label><div class=\"sk-toggleable__content\"><pre>ColumnTransformer(remainder=&#x27;passthrough&#x27;,\n",
       "                  transformers=[(&#x27;trf&#x27;,\n",
       "                                 OneHotEncoder(drop=&#x27;first&#x27;, sparse=False),\n",
       "                                 [&#x27;batting_team&#x27;, &#x27;bowling_team&#x27;, &#x27;city&#x27;])])</pre></div></div></div><div class=\"sk-parallel\"><div class=\"sk-parallel-item\"><div class=\"sk-item\"><div class=\"sk-label-container\"><div class=\"sk-label sk-toggleable\"><input class=\"sk-toggleable__control sk-hidden--visually\" id=\"sk-estimator-id-3\" type=\"checkbox\" ><label for=\"sk-estimator-id-3\" class=\"sk-toggleable__label sk-toggleable__label-arrow\">trf</label><div class=\"sk-toggleable__content\"><pre>[&#x27;batting_team&#x27;, &#x27;bowling_team&#x27;, &#x27;city&#x27;]</pre></div></div></div><div class=\"sk-serial\"><div class=\"sk-item\"><div class=\"sk-estimator sk-toggleable\"><input class=\"sk-toggleable__control sk-hidden--visually\" id=\"sk-estimator-id-4\" type=\"checkbox\" ><label for=\"sk-estimator-id-4\" class=\"sk-toggleable__label sk-toggleable__label-arrow\">OneHotEncoder</label><div class=\"sk-toggleable__content\"><pre>OneHotEncoder(drop=&#x27;first&#x27;, sparse=False)</pre></div></div></div></div></div></div><div class=\"sk-parallel-item\"><div class=\"sk-item\"><div class=\"sk-label-container\"><div class=\"sk-label sk-toggleable\"><input class=\"sk-toggleable__control sk-hidden--visually\" id=\"sk-estimator-id-5\" type=\"checkbox\" ><label for=\"sk-estimator-id-5\" class=\"sk-toggleable__label sk-toggleable__label-arrow\">remainder</label><div class=\"sk-toggleable__content\"><pre>[&#x27;runs_left&#x27;, &#x27;balls_left&#x27;, &#x27;wickets&#x27;, &#x27;total_runs_x&#x27;, &#x27;crr&#x27;, &#x27;rrr&#x27;]</pre></div></div></div><div class=\"sk-serial\"><div class=\"sk-item\"><div class=\"sk-estimator sk-toggleable\"><input class=\"sk-toggleable__control sk-hidden--visually\" id=\"sk-estimator-id-6\" type=\"checkbox\" ><label for=\"sk-estimator-id-6\" class=\"sk-toggleable__label sk-toggleable__label-arrow\">passthrough</label><div class=\"sk-toggleable__content\"><pre>passthrough</pre></div></div></div></div></div></div></div></div><div class=\"sk-item\"><div class=\"sk-estimator sk-toggleable\"><input class=\"sk-toggleable__control sk-hidden--visually\" id=\"sk-estimator-id-7\" type=\"checkbox\" ><label for=\"sk-estimator-id-7\" class=\"sk-toggleable__label sk-toggleable__label-arrow\">LogisticRegression</label><div class=\"sk-toggleable__content\"><pre>LogisticRegression(solver=&#x27;liblinear&#x27;)</pre></div></div></div></div></div></div></div>"
      ],
      "text/plain": [
       "Pipeline(steps=[('step1',\n",
       "                 ColumnTransformer(remainder='passthrough',\n",
       "                                   transformers=[('trf',\n",
       "                                                  OneHotEncoder(drop='first',\n",
       "                                                                sparse=False),\n",
       "                                                  ['batting_team',\n",
       "                                                   'bowling_team', 'city'])])),\n",
       "                ('step2', LogisticRegression(solver='liblinear'))])"
      ]
     },
     "execution_count": 57,
     "metadata": {},
     "output_type": "execute_result"
    }
   ],
   "source": [
    "pipe.fit(X_train,y_train)\n"
   ]
  },
  {
   "cell_type": "code",
   "execution_count": 58,
   "id": "a927799d",
   "metadata": {
    "ExecuteTime": {
     "end_time": "2023-02-14T06:52:13.536683Z",
     "start_time": "2023-02-14T06:52:13.501986Z"
    }
   },
   "outputs": [
    {
     "data": {
      "text/html": [
       "<style>#sk-container-id-2 {color: black;background-color: white;}#sk-container-id-2 pre{padding: 0;}#sk-container-id-2 div.sk-toggleable {background-color: white;}#sk-container-id-2 label.sk-toggleable__label {cursor: pointer;display: block;width: 100%;margin-bottom: 0;padding: 0.3em;box-sizing: border-box;text-align: center;}#sk-container-id-2 label.sk-toggleable__label-arrow:before {content: \"▸\";float: left;margin-right: 0.25em;color: #696969;}#sk-container-id-2 label.sk-toggleable__label-arrow:hover:before {color: black;}#sk-container-id-2 div.sk-estimator:hover label.sk-toggleable__label-arrow:before {color: black;}#sk-container-id-2 div.sk-toggleable__content {max-height: 0;max-width: 0;overflow: hidden;text-align: left;background-color: #f0f8ff;}#sk-container-id-2 div.sk-toggleable__content pre {margin: 0.2em;color: black;border-radius: 0.25em;background-color: #f0f8ff;}#sk-container-id-2 input.sk-toggleable__control:checked~div.sk-toggleable__content {max-height: 200px;max-width: 100%;overflow: auto;}#sk-container-id-2 input.sk-toggleable__control:checked~label.sk-toggleable__label-arrow:before {content: \"▾\";}#sk-container-id-2 div.sk-estimator input.sk-toggleable__control:checked~label.sk-toggleable__label {background-color: #d4ebff;}#sk-container-id-2 div.sk-label input.sk-toggleable__control:checked~label.sk-toggleable__label {background-color: #d4ebff;}#sk-container-id-2 input.sk-hidden--visually {border: 0;clip: rect(1px 1px 1px 1px);clip: rect(1px, 1px, 1px, 1px);height: 1px;margin: -1px;overflow: hidden;padding: 0;position: absolute;width: 1px;}#sk-container-id-2 div.sk-estimator {font-family: monospace;background-color: #f0f8ff;border: 1px dotted black;border-radius: 0.25em;box-sizing: border-box;margin-bottom: 0.5em;}#sk-container-id-2 div.sk-estimator:hover {background-color: #d4ebff;}#sk-container-id-2 div.sk-parallel-item::after {content: \"\";width: 100%;border-bottom: 1px solid gray;flex-grow: 1;}#sk-container-id-2 div.sk-label:hover label.sk-toggleable__label {background-color: #d4ebff;}#sk-container-id-2 div.sk-serial::before {content: \"\";position: absolute;border-left: 1px solid gray;box-sizing: border-box;top: 0;bottom: 0;left: 50%;z-index: 0;}#sk-container-id-2 div.sk-serial {display: flex;flex-direction: column;align-items: center;background-color: white;padding-right: 0.2em;padding-left: 0.2em;position: relative;}#sk-container-id-2 div.sk-item {position: relative;z-index: 1;}#sk-container-id-2 div.sk-parallel {display: flex;align-items: stretch;justify-content: center;background-color: white;position: relative;}#sk-container-id-2 div.sk-item::before, #sk-container-id-2 div.sk-parallel-item::before {content: \"\";position: absolute;border-left: 1px solid gray;box-sizing: border-box;top: 0;bottom: 0;left: 50%;z-index: -1;}#sk-container-id-2 div.sk-parallel-item {display: flex;flex-direction: column;z-index: 1;position: relative;background-color: white;}#sk-container-id-2 div.sk-parallel-item:first-child::after {align-self: flex-end;width: 50%;}#sk-container-id-2 div.sk-parallel-item:last-child::after {align-self: flex-start;width: 50%;}#sk-container-id-2 div.sk-parallel-item:only-child::after {width: 0;}#sk-container-id-2 div.sk-dashed-wrapped {border: 1px dashed gray;margin: 0 0.4em 0.5em 0.4em;box-sizing: border-box;padding-bottom: 0.4em;background-color: white;}#sk-container-id-2 div.sk-label label {font-family: monospace;font-weight: bold;display: inline-block;line-height: 1.2em;}#sk-container-id-2 div.sk-label-container {text-align: center;}#sk-container-id-2 div.sk-container {/* jupyter's `normalize.less` sets `[hidden] { display: none; }` but bootstrap.min.css set `[hidden] { display: none !important; }` so we also need the `!important` here to be able to override the default hidden behavior on the sphinx rendered scikit-learn.org. See: https://github.com/scikit-learn/scikit-learn/issues/21755 */display: inline-block !important;position: relative;}#sk-container-id-2 div.sk-text-repr-fallback {display: none;}</style><div id=\"sk-container-id-2\" class=\"sk-top-container\"><div class=\"sk-text-repr-fallback\"><pre>Pipeline(steps=[(&#x27;step1&#x27;,\n",
       "                 ColumnTransformer(remainder=&#x27;passthrough&#x27;,\n",
       "                                   transformers=[(&#x27;trf&#x27;,\n",
       "                                                  OneHotEncoder(drop=&#x27;first&#x27;,\n",
       "                                                                sparse=False),\n",
       "                                                  [&#x27;batting_team&#x27;,\n",
       "                                                   &#x27;bowling_team&#x27;, &#x27;city&#x27;])])),\n",
       "                (&#x27;step2&#x27;, LogisticRegression(solver=&#x27;liblinear&#x27;))])</pre><b>In a Jupyter environment, please rerun this cell to show the HTML representation or trust the notebook. <br />On GitHub, the HTML representation is unable to render, please try loading this page with nbviewer.org.</b></div><div class=\"sk-container\" hidden><div class=\"sk-item sk-dashed-wrapped\"><div class=\"sk-label-container\"><div class=\"sk-label sk-toggleable\"><input class=\"sk-toggleable__control sk-hidden--visually\" id=\"sk-estimator-id-8\" type=\"checkbox\" ><label for=\"sk-estimator-id-8\" class=\"sk-toggleable__label sk-toggleable__label-arrow\">Pipeline</label><div class=\"sk-toggleable__content\"><pre>Pipeline(steps=[(&#x27;step1&#x27;,\n",
       "                 ColumnTransformer(remainder=&#x27;passthrough&#x27;,\n",
       "                                   transformers=[(&#x27;trf&#x27;,\n",
       "                                                  OneHotEncoder(drop=&#x27;first&#x27;,\n",
       "                                                                sparse=False),\n",
       "                                                  [&#x27;batting_team&#x27;,\n",
       "                                                   &#x27;bowling_team&#x27;, &#x27;city&#x27;])])),\n",
       "                (&#x27;step2&#x27;, LogisticRegression(solver=&#x27;liblinear&#x27;))])</pre></div></div></div><div class=\"sk-serial\"><div class=\"sk-item sk-dashed-wrapped\"><div class=\"sk-label-container\"><div class=\"sk-label sk-toggleable\"><input class=\"sk-toggleable__control sk-hidden--visually\" id=\"sk-estimator-id-9\" type=\"checkbox\" ><label for=\"sk-estimator-id-9\" class=\"sk-toggleable__label sk-toggleable__label-arrow\">step1: ColumnTransformer</label><div class=\"sk-toggleable__content\"><pre>ColumnTransformer(remainder=&#x27;passthrough&#x27;,\n",
       "                  transformers=[(&#x27;trf&#x27;,\n",
       "                                 OneHotEncoder(drop=&#x27;first&#x27;, sparse=False),\n",
       "                                 [&#x27;batting_team&#x27;, &#x27;bowling_team&#x27;, &#x27;city&#x27;])])</pre></div></div></div><div class=\"sk-parallel\"><div class=\"sk-parallel-item\"><div class=\"sk-item\"><div class=\"sk-label-container\"><div class=\"sk-label sk-toggleable\"><input class=\"sk-toggleable__control sk-hidden--visually\" id=\"sk-estimator-id-10\" type=\"checkbox\" ><label for=\"sk-estimator-id-10\" class=\"sk-toggleable__label sk-toggleable__label-arrow\">trf</label><div class=\"sk-toggleable__content\"><pre>[&#x27;batting_team&#x27;, &#x27;bowling_team&#x27;, &#x27;city&#x27;]</pre></div></div></div><div class=\"sk-serial\"><div class=\"sk-item\"><div class=\"sk-estimator sk-toggleable\"><input class=\"sk-toggleable__control sk-hidden--visually\" id=\"sk-estimator-id-11\" type=\"checkbox\" ><label for=\"sk-estimator-id-11\" class=\"sk-toggleable__label sk-toggleable__label-arrow\">OneHotEncoder</label><div class=\"sk-toggleable__content\"><pre>OneHotEncoder(drop=&#x27;first&#x27;, sparse=False)</pre></div></div></div></div></div></div><div class=\"sk-parallel-item\"><div class=\"sk-item\"><div class=\"sk-label-container\"><div class=\"sk-label sk-toggleable\"><input class=\"sk-toggleable__control sk-hidden--visually\" id=\"sk-estimator-id-12\" type=\"checkbox\" ><label for=\"sk-estimator-id-12\" class=\"sk-toggleable__label sk-toggleable__label-arrow\">remainder</label><div class=\"sk-toggleable__content\"><pre></pre></div></div></div><div class=\"sk-serial\"><div class=\"sk-item\"><div class=\"sk-estimator sk-toggleable\"><input class=\"sk-toggleable__control sk-hidden--visually\" id=\"sk-estimator-id-13\" type=\"checkbox\" ><label for=\"sk-estimator-id-13\" class=\"sk-toggleable__label sk-toggleable__label-arrow\">passthrough</label><div class=\"sk-toggleable__content\"><pre>passthrough</pre></div></div></div></div></div></div></div></div><div class=\"sk-item\"><div class=\"sk-estimator sk-toggleable\"><input class=\"sk-toggleable__control sk-hidden--visually\" id=\"sk-estimator-id-14\" type=\"checkbox\" ><label for=\"sk-estimator-id-14\" class=\"sk-toggleable__label sk-toggleable__label-arrow\">LogisticRegression</label><div class=\"sk-toggleable__content\"><pre>LogisticRegression(solver=&#x27;liblinear&#x27;)</pre></div></div></div></div></div></div></div>"
      ],
      "text/plain": [
       "Pipeline(steps=[('step1',\n",
       "                 ColumnTransformer(remainder='passthrough',\n",
       "                                   transformers=[('trf',\n",
       "                                                  OneHotEncoder(drop='first',\n",
       "                                                                sparse=False),\n",
       "                                                  ['batting_team',\n",
       "                                                   'bowling_team', 'city'])])),\n",
       "                ('step2', LogisticRegression(solver='liblinear'))])"
      ]
     },
     "execution_count": 58,
     "metadata": {},
     "output_type": "execute_result"
    }
   ],
   "source": [
    "Pipeline(steps=[('step1',\n",
    "                 ColumnTransformer(remainder='passthrough',\n",
    "                                   transformers=[('trf',\n",
    "                                                  OneHotEncoder(drop='first',\n",
    "                                                                sparse=False),\n",
    "                                                  ['batting_team',\n",
    "                                                   'bowling_team', 'city'])])),\n",
    "                ('step2', LogisticRegression(solver='liblinear'))])"
   ]
  },
  {
   "cell_type": "code",
   "execution_count": 59,
   "id": "ac89b7bb",
   "metadata": {
    "ExecuteTime": {
     "end_time": "2023-02-14T06:52:43.209488Z",
     "start_time": "2023-02-14T06:52:43.158581Z"
    }
   },
   "outputs": [],
   "source": [
    "y_pred = pipe.predict(X_test)"
   ]
  },
  {
   "cell_type": "code",
   "execution_count": 60,
   "id": "07294c3d",
   "metadata": {
    "ExecuteTime": {
     "end_time": "2023-02-14T06:52:58.612591Z",
     "start_time": "2023-02-14T06:52:58.600821Z"
    }
   },
   "outputs": [
    {
     "data": {
      "text/plain": [
       "0.7991449996495901"
      ]
     },
     "execution_count": 60,
     "metadata": {},
     "output_type": "execute_result"
    }
   ],
   "source": [
    "from sklearn.metrics import accuracy_score\n",
    "accuracy_score(y_test,y_pred)"
   ]
  },
  {
   "cell_type": "code",
   "execution_count": 61,
   "id": "5b559db4",
   "metadata": {
    "ExecuteTime": {
     "end_time": "2023-02-14T06:56:37.793862Z",
     "start_time": "2023-02-14T06:56:37.728814Z"
    }
   },
   "outputs": [
    {
     "data": {
      "text/plain": [
       "array([0.9617257, 0.0382743])"
      ]
     },
     "execution_count": 61,
     "metadata": {},
     "output_type": "execute_result"
    }
   ],
   "source": [
    "pipe.predict_proba(X_test)[10]"
   ]
  },
  {
   "cell_type": "code",
   "execution_count": 62,
   "id": "a0ec3002",
   "metadata": {
    "ExecuteTime": {
     "end_time": "2023-02-14T06:56:55.591111Z",
     "start_time": "2023-02-14T06:56:55.586206Z"
    }
   },
   "outputs": [],
   "source": [
    "def match_summary(row):\n",
    "    print(\"Batting Team-\" + row['batting_team'] + \" | Bowling Team-\" + row['bowling_team'] + \" | Target- \" + str(row['total_runs_x']))\n",
    "    "
   ]
  },
  {
   "cell_type": "code",
   "execution_count": 63,
   "id": "ab27eee9",
   "metadata": {
    "ExecuteTime": {
     "end_time": "2023-02-14T06:58:21.958782Z",
     "start_time": "2023-02-14T06:58:21.945681Z"
    }
   },
   "outputs": [],
   "source": [
    "def match_progression(x_df,match_id,pipe):\n",
    "    match = x_df[x_df['match_id'] == match_id]\n",
    "    match = match[(match['ball'] == 6)]\n",
    "    temp_df = match[['batting_team','bowling_team','city','runs_left','balls_left','wickets','total_runs_x','crr','rrr']].dropna()\n",
    "    temp_df = temp_df[temp_df['balls_left'] != 0]\n",
    "    result = pipe.predict_proba(temp_df)\n",
    "    temp_df['lose'] = np.round(result.T[0]*100,1)\n",
    "    temp_df['win'] = np.round(result.T[1]*100,1)\n",
    "    temp_df['end_of_over'] = range(1,temp_df.shape[0]+1)\n",
    "    \n",
    "    target = temp_df['total_runs_x'].values[0]\n",
    "    runs = list(temp_df['runs_left'].values)\n",
    "    new_runs = runs[:]\n",
    "    runs.insert(0,target)\n",
    "    temp_df['runs_after_over'] = np.array(runs)[:-1] - np.array(new_runs)\n",
    "    wickets = list(temp_df['wickets'].values)\n",
    "    new_wickets = wickets[:]\n",
    "    new_wickets.insert(0,10)\n",
    "    wickets.append(0)\n",
    "    w = np.array(wickets)\n",
    "    nw = np.array(new_wickets)\n",
    "    temp_df['wickets_in_over'] = (nw - w)[0:temp_df.shape[0]]\n",
    "    \n",
    "    print(\"Target-\",target)\n",
    "    temp_df = temp_df[['end_of_over','runs_after_over','wickets_in_over','lose','win']]\n",
    "    return temp_df,target"
   ]
  },
  {
   "cell_type": "code",
   "execution_count": 67,
   "id": "0cf25724",
   "metadata": {
    "ExecuteTime": {
     "end_time": "2023-02-14T06:58:59.256622Z",
     "start_time": "2023-02-14T06:58:59.220978Z"
    }
   },
   "outputs": [
    {
     "name": "stdout",
     "output_type": "stream",
     "text": [
      "Target- 178\n"
     ]
    },
    {
     "data": {
      "text/html": [
       "<div>\n",
       "<style scoped>\n",
       "    .dataframe tbody tr th:only-of-type {\n",
       "        vertical-align: middle;\n",
       "    }\n",
       "\n",
       "    .dataframe tbody tr th {\n",
       "        vertical-align: top;\n",
       "    }\n",
       "\n",
       "    .dataframe thead th {\n",
       "        text-align: right;\n",
       "    }\n",
       "</style>\n",
       "<table border=\"1\" class=\"dataframe\">\n",
       "  <thead>\n",
       "    <tr style=\"text-align: right;\">\n",
       "      <th></th>\n",
       "      <th>end_of_over</th>\n",
       "      <th>runs_after_over</th>\n",
       "      <th>wickets_in_over</th>\n",
       "      <th>lose</th>\n",
       "      <th>win</th>\n",
       "    </tr>\n",
       "  </thead>\n",
       "  <tbody>\n",
       "    <tr>\n",
       "      <th>10459</th>\n",
       "      <td>1</td>\n",
       "      <td>4</td>\n",
       "      <td>0</td>\n",
       "      <td>56.6</td>\n",
       "      <td>43.4</td>\n",
       "    </tr>\n",
       "    <tr>\n",
       "      <th>10467</th>\n",
       "      <td>2</td>\n",
       "      <td>8</td>\n",
       "      <td>0</td>\n",
       "      <td>51.2</td>\n",
       "      <td>48.8</td>\n",
       "    </tr>\n",
       "    <tr>\n",
       "      <th>10473</th>\n",
       "      <td>3</td>\n",
       "      <td>1</td>\n",
       "      <td>0</td>\n",
       "      <td>58.1</td>\n",
       "      <td>41.9</td>\n",
       "    </tr>\n",
       "    <tr>\n",
       "      <th>10479</th>\n",
       "      <td>4</td>\n",
       "      <td>7</td>\n",
       "      <td>1</td>\n",
       "      <td>69.8</td>\n",
       "      <td>30.2</td>\n",
       "    </tr>\n",
       "    <tr>\n",
       "      <th>10485</th>\n",
       "      <td>5</td>\n",
       "      <td>12</td>\n",
       "      <td>0</td>\n",
       "      <td>59.6</td>\n",
       "      <td>40.4</td>\n",
       "    </tr>\n",
       "    <tr>\n",
       "      <th>10491</th>\n",
       "      <td>6</td>\n",
       "      <td>13</td>\n",
       "      <td>0</td>\n",
       "      <td>47.2</td>\n",
       "      <td>52.8</td>\n",
       "    </tr>\n",
       "    <tr>\n",
       "      <th>10497</th>\n",
       "      <td>7</td>\n",
       "      <td>9</td>\n",
       "      <td>0</td>\n",
       "      <td>41.2</td>\n",
       "      <td>58.8</td>\n",
       "    </tr>\n",
       "    <tr>\n",
       "      <th>10505</th>\n",
       "      <td>8</td>\n",
       "      <td>15</td>\n",
       "      <td>0</td>\n",
       "      <td>27.3</td>\n",
       "      <td>72.7</td>\n",
       "    </tr>\n",
       "    <tr>\n",
       "      <th>10511</th>\n",
       "      <td>9</td>\n",
       "      <td>7</td>\n",
       "      <td>0</td>\n",
       "      <td>25.2</td>\n",
       "      <td>74.8</td>\n",
       "    </tr>\n",
       "    <tr>\n",
       "      <th>10518</th>\n",
       "      <td>10</td>\n",
       "      <td>17</td>\n",
       "      <td>0</td>\n",
       "      <td>13.7</td>\n",
       "      <td>86.3</td>\n",
       "    </tr>\n",
       "    <tr>\n",
       "      <th>10524</th>\n",
       "      <td>11</td>\n",
       "      <td>9</td>\n",
       "      <td>1</td>\n",
       "      <td>19.2</td>\n",
       "      <td>80.8</td>\n",
       "    </tr>\n",
       "    <tr>\n",
       "      <th>10530</th>\n",
       "      <td>12</td>\n",
       "      <td>9</td>\n",
       "      <td>0</td>\n",
       "      <td>15.7</td>\n",
       "      <td>84.3</td>\n",
       "    </tr>\n",
       "    <tr>\n",
       "      <th>10536</th>\n",
       "      <td>13</td>\n",
       "      <td>8</td>\n",
       "      <td>0</td>\n",
       "      <td>13.5</td>\n",
       "      <td>86.5</td>\n",
       "    </tr>\n",
       "    <tr>\n",
       "      <th>10542</th>\n",
       "      <td>14</td>\n",
       "      <td>8</td>\n",
       "      <td>0</td>\n",
       "      <td>11.6</td>\n",
       "      <td>88.4</td>\n",
       "    </tr>\n",
       "    <tr>\n",
       "      <th>10548</th>\n",
       "      <td>15</td>\n",
       "      <td>5</td>\n",
       "      <td>1</td>\n",
       "      <td>20.3</td>\n",
       "      <td>79.7</td>\n",
       "    </tr>\n",
       "    <tr>\n",
       "      <th>10555</th>\n",
       "      <td>16</td>\n",
       "      <td>8</td>\n",
       "      <td>1</td>\n",
       "      <td>29.0</td>\n",
       "      <td>71.0</td>\n",
       "    </tr>\n",
       "    <tr>\n",
       "      <th>10561</th>\n",
       "      <td>17</td>\n",
       "      <td>8</td>\n",
       "      <td>2</td>\n",
       "      <td>55.6</td>\n",
       "      <td>44.4</td>\n",
       "    </tr>\n",
       "    <tr>\n",
       "      <th>10567</th>\n",
       "      <td>18</td>\n",
       "      <td>6</td>\n",
       "      <td>1</td>\n",
       "      <td>70.6</td>\n",
       "      <td>29.4</td>\n",
       "    </tr>\n",
       "    <tr>\n",
       "      <th>10573</th>\n",
       "      <td>19</td>\n",
       "      <td>8</td>\n",
       "      <td>2</td>\n",
       "      <td>89.3</td>\n",
       "      <td>10.7</td>\n",
       "    </tr>\n",
       "  </tbody>\n",
       "</table>\n",
       "</div>"
      ],
      "text/plain": [
       "       end_of_over  runs_after_over  wickets_in_over  lose   win\n",
       "10459            1                4                0  56.6  43.4\n",
       "10467            2                8                0  51.2  48.8\n",
       "10473            3                1                0  58.1  41.9\n",
       "10479            4                7                1  69.8  30.2\n",
       "10485            5               12                0  59.6  40.4\n",
       "10491            6               13                0  47.2  52.8\n",
       "10497            7                9                0  41.2  58.8\n",
       "10505            8               15                0  27.3  72.7\n",
       "10511            9                7                0  25.2  74.8\n",
       "10518           10               17                0  13.7  86.3\n",
       "10524           11                9                1  19.2  80.8\n",
       "10530           12                9                0  15.7  84.3\n",
       "10536           13                8                0  13.5  86.5\n",
       "10542           14                8                0  11.6  88.4\n",
       "10548           15                5                1  20.3  79.7\n",
       "10555           16                8                1  29.0  71.0\n",
       "10561           17                8                2  55.6  44.4\n",
       "10567           18                6                1  70.6  29.4\n",
       "10573           19                8                2  89.3  10.7"
      ]
     },
     "execution_count": 67,
     "metadata": {},
     "output_type": "execute_result"
    }
   ],
   "source": [
    "temp_df,target = match_progression(delivery_df,74,pipe)\n",
    "temp_df"
   ]
  },
  {
   "cell_type": "code",
   "execution_count": 68,
   "id": "b2951550",
   "metadata": {
    "ExecuteTime": {
     "end_time": "2023-02-14T06:59:29.513202Z",
     "start_time": "2023-02-14T06:59:24.032122Z"
    }
   },
   "outputs": [
    {
     "data": {
      "text/plain": [
       "Text(0.5, 1.0, 'Target-178')"
      ]
     },
     "execution_count": 68,
     "metadata": {},
     "output_type": "execute_result"
    },
    {
     "data": {
      "image/png": "[encoded data removed]",
      "text/plain": [
       "<Figure size 1800x800 with 1 Axes>"
      ]
     },
     "metadata": {},
     "output_type": "display_data"
    }
   ],
   "source": [
    "import matplotlib.pyplot as plt\n",
    "plt.figure(figsize=(18,8))\n",
    "plt.plot(temp_df['end_of_over'],temp_df['wickets_in_over'],color='yellow',linewidth=3)\n",
    "plt.plot(temp_df['end_of_over'],temp_df['win'],color='#00a65a',linewidth=4)\n",
    "plt.plot(temp_df['end_of_over'],temp_df['lose'],color='red',linewidth=4)\n",
    "plt.bar(temp_df['end_of_over'],temp_df['runs_after_over'])\n",
    "plt.title('Target-' + str(target))"
   ]
  },
  {
   "cell_type": "code",
   "execution_count": 69,
   "id": "3fd661a0",
   "metadata": {
    "ExecuteTime": {
     "end_time": "2023-02-14T07:02:59.839194Z",
     "start_time": "2023-02-14T07:02:59.828244Z"
    }
   },
   "outputs": [
    {
     "data": {
      "text/plain": [
       "['Sunrisers Hyderabad',\n",
       " 'Mumbai Indians',\n",
       " 'Royal Challengers Bangalore',\n",
       " 'Kolkata Knight Riders',\n",
       " 'Kings XI Punjab',\n",
       " 'Chennai Super Kings',\n",
       " 'Rajasthan Royals',\n",
       " 'Delhi Capitals']"
      ]
     },
     "execution_count": 69,
     "metadata": {},
     "output_type": "execute_result"
    }
   ],
   "source": [
    "teams"
   ]
  },
  {
   "cell_type": "code",
   "execution_count": 70,
   "id": "f2d547d7",
   "metadata": {
    "ExecuteTime": {
     "end_time": "2023-02-14T07:03:32.382360Z",
     "start_time": "2023-02-14T07:03:32.293403Z"
    }
   },
   "outputs": [
    {
     "data": {
      "text/plain": [
       "array(['Hyderabad', 'Bangalore', 'Mumbai', 'Indore', 'Kolkata', 'Delhi',\n",
       "       'Chandigarh', 'Jaipur', 'Chennai', 'Cape Town', 'Port Elizabeth',\n",
       "       'Durban', 'Centurion', 'East London', 'Johannesburg', 'Kimberley',\n",
       "       'Bloemfontein', 'Ahmedabad', 'Cuttack', 'Nagpur', 'Dharamsala',\n",
       "       'Visakhapatnam', 'Pune', 'Raipur', 'Ranchi', 'Abu Dhabi',\n",
       "       'Sharjah', nan, 'Mohali', 'Bengaluru'], dtype=object)"
      ]
     },
     "execution_count": 70,
     "metadata": {},
     "output_type": "execute_result"
    }
   ],
   "source": [
    "delivery_df['city'].unique()"
   ]
  },
  {
   "cell_type": "code",
   "execution_count": 71,
   "id": "d0c1ea40",
   "metadata": {
    "ExecuteTime": {
     "end_time": "2023-02-14T07:03:55.559354Z",
     "start_time": "2023-02-14T07:03:55.552276Z"
    }
   },
   "outputs": [],
   "source": [
    "import pickle\n",
    "pickle.dump(pipe,open('pipe.pkl','wb'))"
   ]
  },
  {
   "cell_type": "code",
   "execution_count": null,
   "id": "a3899166",
   "metadata": {},
   "outputs": [],
   "source": []
  }
 ],
 "metadata": {
  "hide_input": false,
  "kernelspec": {
   "display_name": "Python 3 (ipykernel)",
   "language": "python",
   "name": "python3"
  },
  "language_info": {
   "codemirror_mode": {
    "name": "ipython",
    "version": 3
   },
   "file_extension": ".py",
   "mimetype": "text/x-python",
   "name": "python",
   "nbconvert_exporter": "python",
   "pygments_lexer": "ipython3",
   "version": "3.11.1"
  },
  "toc": {
   "base_numbering": 1,
   "nav_menu": {},
   "number_sections": true,
   "sideBar": true,
   "skip_h1_title": false,
   "title_cell": "Table of Contents",
   "title_sidebar": "Contents",
   "toc_cell": false,
   "toc_position": {},
   "toc_section_display": true,
   "toc_window_display": false
  },
  "varInspector": {
   "cols": {
    "lenName": 16,
    "lenType": 16,
    "lenVar": 40
   },
   "kernels_config": {
    "python": {
     "delete_cmd_postfix": "",
     "delete_cmd_prefix": "del ",
     "library": "var_list.py",
     "varRefreshCmd": "print(var_dic_list())"
    },
    "r": {
     "delete_cmd_postfix": ") ",
     "delete_cmd_prefix": "rm(",
     "library": "var_list.r",
     "varRefreshCmd": "cat(var_dic_list()) "
    }
   },
   "types_to_exclude": [
    "module",
    "function",
    "builtin_function_or_method",
    "instance",
    "_Feature"
   ],
   "window_display": false
  }
 },
 "nbformat": 4,
 "nbformat_minor": 5
}
